{
  "nbformat": 4,
  "nbformat_minor": 0,
  "metadata": {
    "colab": {
      "name": "Ground-Level Ozone Prediction",
      "provenance": [],
      "collapsed_sections": [],
      "toc_visible": true
    },
    "kernelspec": {
      "name": "python3",
      "display_name": "Python 3"
    }
  },
  "cells": [
    {
      "cell_type": "code",
      "metadata": {
        "id": "shW_vtDfmqph"
      },
      "source": [
        "import pandas as pd\n",
        "import matplotlib.pyplot as plt\n",
        "\n",
        "import os\n",
        "from sklearn.metrics import mean_absolute_error\n",
        "import matplotlib.pyplot as plt\n",
        "import numpy as np\n",
        "from sklearn import datasets, ensemble\n",
        "from sklearn.inspection import permutation_importance\n",
        "from sklearn.metrics import mean_squared_error\n",
        "from sklearn.model_selection import train_test_split\n"
      ],
      "execution_count": null,
      "outputs": []
    },
    {
      "cell_type": "markdown",
      "metadata": {
        "id": "LwcCfC0qn1uh"
      },
      "source": [
        "## Readind data"
      ]
    },
    {
      "cell_type": "code",
      "metadata": {
        "id": "wN4Db8hDWLQT"
      },
      "source": [
        "import pandas as pd\n",
        "import glob\n",
        "\n",
        "path = r'/content/drive/MyDrive/poll1/train' # use your path\n",
        "all_files = glob.glob(path + \"/*.xls\")\n",
        "\n",
        "li = []\n",
        "\n",
        "for filename in all_files:\n",
        "    df = pd.read_excel(filename, index_col=None, header=0)\n",
        "    li.append(df)\n",
        "\n",
        "train = pd.concat(li, axis=0, ignore_index=True)"
      ],
      "execution_count": null,
      "outputs": []
    },
    {
      "cell_type": "code",
      "metadata": {
        "id": "-mOLA8u9-BAn"
      },
      "source": [
        "path = r'/content/drive/MyDrive/poll1/test' # use your path\n",
        "all_files = glob.glob(path + \"/*.xls\")\n",
        "\n",
        "li = []\n",
        "\n",
        "for filename in all_files:\n",
        "    df = pd.read_excel(filename, index_col=None, header=0)\n",
        "    li.append(df)\n",
        "\n",
        "test = pd.concat(li, axis=0, ignore_index=True)"
      ],
      "execution_count": null,
      "outputs": []
    },
    {
      "cell_type": "code",
      "metadata": {
        "colab": {
          "base_uri": "https://localhost:8080/"
        },
        "id": "vRIDpzTNDYIL",
        "outputId": "ee2ec610-927d-4db0-caf4-e41ad2003e20"
      },
      "source": [
        "test.shape"
      ],
      "execution_count": null,
      "outputs": [
        {
          "output_type": "execute_result",
          "data": {
            "text/plain": [
              "(8764, 23)"
            ]
          },
          "metadata": {
            "tags": []
          },
          "execution_count": 4
        }
      ]
    },
    {
      "cell_type": "code",
      "metadata": {
        "colab": {
          "base_uri": "https://localhost:8080/",
          "height": 343
        },
        "id": "70lFlerL-rfa",
        "outputId": "7f748114-95db-4930-8cd2-a8e0729c1c3c"
      },
      "source": [
        "train.head()"
      ],
      "execution_count": null,
      "outputs": [
        {
          "output_type": "execute_result",
          "data": {
            "text/html": [
              "<div>\n",
              "<style scoped>\n",
              "    .dataframe tbody tr th:only-of-type {\n",
              "        vertical-align: middle;\n",
              "    }\n",
              "\n",
              "    .dataframe tbody tr th {\n",
              "        vertical-align: top;\n",
              "    }\n",
              "\n",
              "    .dataframe thead th {\n",
              "        text-align: right;\n",
              "    }\n",
              "</style>\n",
              "<table border=\"1\" class=\"dataframe\">\n",
              "  <thead>\n",
              "    <tr style=\"text-align: right;\">\n",
              "      <th></th>\n",
              "      <th>Unnamed: 0</th>\n",
              "      <th>Unnamed: 1</th>\n",
              "      <th>Unnamed: 2</th>\n",
              "      <th>Unnamed: 3</th>\n",
              "      <th>Unnamed: 4</th>\n",
              "      <th>Unnamed: 5</th>\n",
              "      <th>Unnamed: 6</th>\n",
              "      <th>Unnamed: 7</th>\n",
              "      <th>Unnamed: 8</th>\n",
              "      <th>Unnamed: 9</th>\n",
              "      <th>Unnamed: 10</th>\n",
              "      <th>Unnamed: 11</th>\n",
              "      <th>Unnamed: 12</th>\n",
              "      <th>Unnamed: 13</th>\n",
              "      <th>Unnamed: 14</th>\n",
              "      <th>Unnamed: 15</th>\n",
              "      <th>Unnamed: 16</th>\n",
              "      <th>Unnamed: 17</th>\n",
              "      <th>Unnamed: 18</th>\n",
              "      <th>Unnamed: 19</th>\n",
              "      <th>Unnamed: 20</th>\n",
              "      <th>Unnamed: 21</th>\n",
              "      <th>Unnamed: 22</th>\n",
              "    </tr>\n",
              "  </thead>\n",
              "  <tbody>\n",
              "    <tr>\n",
              "      <th>0</th>\n",
              "      <td>NaN</td>\n",
              "      <td>Station: EPA Jahra Kuwait    2007</td>\n",
              "      <td>NaN</td>\n",
              "      <td>NaN</td>\n",
              "      <td>NaN</td>\n",
              "      <td>NaN</td>\n",
              "      <td>NaN</td>\n",
              "      <td>NaN</td>\n",
              "      <td>NaN</td>\n",
              "      <td>NaN</td>\n",
              "      <td>NaN</td>\n",
              "      <td>NaN</td>\n",
              "      <td>NaN</td>\n",
              "      <td>NaN</td>\n",
              "      <td>NaN</td>\n",
              "      <td>NaN</td>\n",
              "      <td>NaN</td>\n",
              "      <td>NaN</td>\n",
              "      <td>NaN</td>\n",
              "      <td>NaN</td>\n",
              "      <td>NaN</td>\n",
              "      <td>NaN</td>\n",
              "      <td>NaN</td>\n",
              "    </tr>\n",
              "    <tr>\n",
              "      <th>1</th>\n",
              "      <td>NaN</td>\n",
              "      <td>NaN</td>\n",
              "      <td>NaN</td>\n",
              "      <td>NaN</td>\n",
              "      <td>NaN</td>\n",
              "      <td>NaN</td>\n",
              "      <td>NaN</td>\n",
              "      <td>NaN</td>\n",
              "      <td>NaN</td>\n",
              "      <td>NaN</td>\n",
              "      <td>NaN</td>\n",
              "      <td>NaN</td>\n",
              "      <td>NaN</td>\n",
              "      <td>NaN</td>\n",
              "      <td>NaN</td>\n",
              "      <td>NaN</td>\n",
              "      <td>NaN</td>\n",
              "      <td>NaN</td>\n",
              "      <td>NaN</td>\n",
              "      <td>NaN</td>\n",
              "      <td>NaN</td>\n",
              "      <td>NaN</td>\n",
              "      <td>NaN</td>\n",
              "    </tr>\n",
              "    <tr>\n",
              "      <th>2</th>\n",
              "      <td>NaN</td>\n",
              "      <td>YEAR</td>\n",
              "      <td>MONTH</td>\n",
              "      <td>DAY</td>\n",
              "      <td>HR</td>\n",
              "      <td>SO2</td>\n",
              "      <td>NO</td>\n",
              "      <td>NOX</td>\n",
              "      <td>NO2</td>\n",
              "      <td>PM10</td>\n",
              "      <td>CO</td>\n",
              "      <td>CH4</td>\n",
              "      <td>NCH4</td>\n",
              "      <td>O3</td>\n",
              "      <td>WS</td>\n",
              "      <td>WG</td>\n",
              "      <td>SOLAR</td>\n",
              "      <td>TEMP-IND</td>\n",
              "      <td>TEMP-AMB</td>\n",
              "      <td>CO2</td>\n",
              "      <td>Wind Direction</td>\n",
              "      <td>NaN</td>\n",
              "      <td>NaN</td>\n",
              "    </tr>\n",
              "    <tr>\n",
              "      <th>3</th>\n",
              "      <td>NaN</td>\n",
              "      <td>NaN</td>\n",
              "      <td>NaN</td>\n",
              "      <td>NaN</td>\n",
              "      <td>NaN</td>\n",
              "      <td>ppm</td>\n",
              "      <td>ppm</td>\n",
              "      <td>ppm</td>\n",
              "      <td>ppm</td>\n",
              "      <td>ug/m^3</td>\n",
              "      <td>ppm</td>\n",
              "      <td>ppm</td>\n",
              "      <td>ppm</td>\n",
              "      <td>ppm</td>\n",
              "      <td>m/sec</td>\n",
              "      <td>m/sec</td>\n",
              "      <td>w/m^2</td>\n",
              "      <td>©</td>\n",
              "      <td>©</td>\n",
              "      <td>ppm</td>\n",
              "      <td>deg</td>\n",
              "      <td>sector (16)</td>\n",
              "      <td>NaN</td>\n",
              "    </tr>\n",
              "    <tr>\n",
              "      <th>4</th>\n",
              "      <td>NaN</td>\n",
              "      <td>2007</td>\n",
              "      <td>1</td>\n",
              "      <td>1</td>\n",
              "      <td>0</td>\n",
              "      <td>0.001</td>\n",
              "      <td>0.00525</td>\n",
              "      <td>0.0308333</td>\n",
              "      <td>0.0238333</td>\n",
              "      <td>20.5</td>\n",
              "      <td>1.05833</td>\n",
              "      <td>2.79917</td>\n",
              "      <td>0.0325</td>\n",
              "      <td>0.00375</td>\n",
              "      <td>1.78333</td>\n",
              "      <td>2.48333</td>\n",
              "      <td>4.04683</td>\n",
              "      <td>22.25</td>\n",
              "      <td>5.33333</td>\n",
              "      <td>328.583</td>\n",
              "      <td>277.667</td>\n",
              "      <td>13</td>\n",
              "      <td>W</td>\n",
              "    </tr>\n",
              "  </tbody>\n",
              "</table>\n",
              "</div>"
            ],
            "text/plain": [
              "   Unnamed: 0                         Unnamed: 1  ...  Unnamed: 21 Unnamed: 22\n",
              "0         NaN  Station: EPA Jahra Kuwait    2007  ...          NaN         NaN\n",
              "1         NaN                                NaN  ...          NaN         NaN\n",
              "2         NaN                               YEAR  ...          NaN         NaN\n",
              "3         NaN                                NaN  ...  sector (16)         NaN\n",
              "4         NaN                               2007  ...           13           W\n",
              "\n",
              "[5 rows x 23 columns]"
            ]
          },
          "metadata": {
            "tags": []
          },
          "execution_count": 5
        }
      ]
    },
    {
      "cell_type": "code",
      "metadata": {
        "colab": {
          "base_uri": "https://localhost:8080/",
          "height": 360
        },
        "id": "x-TZqRmBYJLh",
        "outputId": "25fb3ec4-327c-483b-8540-6c95a4b154ea"
      },
      "source": [
        "test.head()"
      ],
      "execution_count": null,
      "outputs": [
        {
          "output_type": "execute_result",
          "data": {
            "text/html": [
              "<div>\n",
              "<style scoped>\n",
              "    .dataframe tbody tr th:only-of-type {\n",
              "        vertical-align: middle;\n",
              "    }\n",
              "\n",
              "    .dataframe tbody tr th {\n",
              "        vertical-align: top;\n",
              "    }\n",
              "\n",
              "    .dataframe thead th {\n",
              "        text-align: right;\n",
              "    }\n",
              "</style>\n",
              "<table border=\"1\" class=\"dataframe\">\n",
              "  <thead>\n",
              "    <tr style=\"text-align: right;\">\n",
              "      <th></th>\n",
              "      <th>Unnamed: 0</th>\n",
              "      <th>Unnamed: 1</th>\n",
              "      <th>Unnamed: 2</th>\n",
              "      <th>Unnamed: 3</th>\n",
              "      <th>Unnamed: 4</th>\n",
              "      <th>Unnamed: 5</th>\n",
              "      <th>Unnamed: 6</th>\n",
              "      <th>Unnamed: 7</th>\n",
              "      <th>Unnamed: 8</th>\n",
              "      <th>Unnamed: 9</th>\n",
              "      <th>Unnamed: 10</th>\n",
              "      <th>Unnamed: 11</th>\n",
              "      <th>Unnamed: 12</th>\n",
              "      <th>Unnamed: 13</th>\n",
              "      <th>Unnamed: 14</th>\n",
              "      <th>Unnamed: 15</th>\n",
              "      <th>Unnamed: 16</th>\n",
              "      <th>Unnamed: 17</th>\n",
              "      <th>Unnamed: 18</th>\n",
              "      <th>Unnamed: 19</th>\n",
              "      <th>Unnamed: 20</th>\n",
              "      <th>Unnamed: 21</th>\n",
              "      <th>Unnamed: 22</th>\n",
              "    </tr>\n",
              "  </thead>\n",
              "  <tbody>\n",
              "    <tr>\n",
              "      <th>0</th>\n",
              "      <td>NaN</td>\n",
              "      <td>Hourly Data For Jahra Fixed Station 2009</td>\n",
              "      <td>NaN</td>\n",
              "      <td>NaN</td>\n",
              "      <td>NaN</td>\n",
              "      <td>NaN</td>\n",
              "      <td>NaN</td>\n",
              "      <td>NaN</td>\n",
              "      <td>NaN</td>\n",
              "      <td>NaN</td>\n",
              "      <td>NaN</td>\n",
              "      <td>NaN</td>\n",
              "      <td>NaN</td>\n",
              "      <td>NaN</td>\n",
              "      <td>NaN</td>\n",
              "      <td>NaN</td>\n",
              "      <td>NaN</td>\n",
              "      <td>NaN</td>\n",
              "      <td>NaN</td>\n",
              "      <td>NaN</td>\n",
              "      <td>NaN</td>\n",
              "      <td>NaN</td>\n",
              "      <td>NaN</td>\n",
              "    </tr>\n",
              "    <tr>\n",
              "      <th>1</th>\n",
              "      <td>NaN</td>\n",
              "      <td>NaN</td>\n",
              "      <td>NaN</td>\n",
              "      <td>NaN</td>\n",
              "      <td>NaN</td>\n",
              "      <td>NaN</td>\n",
              "      <td>NaN</td>\n",
              "      <td>NaN</td>\n",
              "      <td>NaN</td>\n",
              "      <td>NaN</td>\n",
              "      <td>NaN</td>\n",
              "      <td>NaN</td>\n",
              "      <td>NaN</td>\n",
              "      <td>NaN</td>\n",
              "      <td>NaN</td>\n",
              "      <td>NaN</td>\n",
              "      <td>NaN</td>\n",
              "      <td>NaN</td>\n",
              "      <td>NaN</td>\n",
              "      <td>NaN</td>\n",
              "      <td>NaN</td>\n",
              "      <td>NaN</td>\n",
              "      <td>NaN</td>\n",
              "    </tr>\n",
              "    <tr>\n",
              "      <th>2</th>\n",
              "      <td>NaN</td>\n",
              "      <td>YEAR</td>\n",
              "      <td>MONTH</td>\n",
              "      <td>DAY</td>\n",
              "      <td>HR</td>\n",
              "      <td>SO2</td>\n",
              "      <td>NO</td>\n",
              "      <td>NOX</td>\n",
              "      <td>NO2</td>\n",
              "      <td>PM10</td>\n",
              "      <td>CO</td>\n",
              "      <td>CH4</td>\n",
              "      <td>NCH4</td>\n",
              "      <td>O3</td>\n",
              "      <td>WS</td>\n",
              "      <td>WG</td>\n",
              "      <td>SOLAR</td>\n",
              "      <td>TEMP-IND</td>\n",
              "      <td>TEMP-AMB</td>\n",
              "      <td>CO2</td>\n",
              "      <td>Wind Direction</td>\n",
              "      <td>NaN</td>\n",
              "      <td>NaN</td>\n",
              "    </tr>\n",
              "    <tr>\n",
              "      <th>3</th>\n",
              "      <td>NaN</td>\n",
              "      <td>NaN</td>\n",
              "      <td>NaN</td>\n",
              "      <td>NaN</td>\n",
              "      <td>NaN</td>\n",
              "      <td>ppm</td>\n",
              "      <td>ppm</td>\n",
              "      <td>ppm</td>\n",
              "      <td>ppm</td>\n",
              "      <td>ug/m^3</td>\n",
              "      <td>ppm</td>\n",
              "      <td>ppm</td>\n",
              "      <td>ppm</td>\n",
              "      <td>ppm</td>\n",
              "      <td>m/sec</td>\n",
              "      <td>m/sec</td>\n",
              "      <td>w/m^2</td>\n",
              "      <td>©</td>\n",
              "      <td>©</td>\n",
              "      <td>ppm</td>\n",
              "      <td>deg</td>\n",
              "      <td>sector (16)</td>\n",
              "      <td>NaN</td>\n",
              "    </tr>\n",
              "    <tr>\n",
              "      <th>4</th>\n",
              "      <td>NaN</td>\n",
              "      <td>2009</td>\n",
              "      <td>1</td>\n",
              "      <td>1</td>\n",
              "      <td>0</td>\n",
              "      <td>0.00425</td>\n",
              "      <td>0.07525</td>\n",
              "      <td>0.145583</td>\n",
              "      <td>0.06875</td>\n",
              "      <td>100.417</td>\n",
              "      <td>1.21667</td>\n",
              "      <td>1.7625</td>\n",
              "      <td>0.286667</td>\n",
              "      <td>0.01</td>\n",
              "      <td>0.275</td>\n",
              "      <td>0.5</td>\n",
              "      <td>7.08333</td>\n",
              "      <td>24.5</td>\n",
              "      <td>16.25</td>\n",
              "      <td>362.75</td>\n",
              "      <td>163</td>\n",
              "      <td>8</td>\n",
              "      <td>SSE</td>\n",
              "    </tr>\n",
              "  </tbody>\n",
              "</table>\n",
              "</div>"
            ],
            "text/plain": [
              "   Unnamed: 0  ... Unnamed: 22\n",
              "0         NaN  ...         NaN\n",
              "1         NaN  ...         NaN\n",
              "2         NaN  ...         NaN\n",
              "3         NaN  ...         NaN\n",
              "4         NaN  ...         SSE\n",
              "\n",
              "[5 rows x 23 columns]"
            ]
          },
          "metadata": {
            "tags": []
          },
          "execution_count": 6
        }
      ]
    },
    {
      "cell_type": "code",
      "metadata": {
        "id": "COiEtlLqssjX"
      },
      "source": [
        "train=train.drop(['Unnamed: 0','Unnamed: 22'],axis=1)\n",
        "test=test.drop(['Unnamed: 0','Unnamed: 22'],axis=1)\n"
      ],
      "execution_count": null,
      "outputs": []
    },
    {
      "cell_type": "code",
      "metadata": {
        "id": "-lE67oV8zgnP"
      },
      "source": [
        "train=train.rename(columns={'Unnamed: 1':'YEAR','Unnamed: 2':'MONTH','Unnamed: 3':'DAY','Unnamed: 4':'HOUR','Unnamed: 5':'SO2','Unnamed: 6':'NO','Unnamed: 7':'NOX','Unnamed: 8':'NO2-ppm','Unnamed: 9':'PM10','Unnamed: 10':'CO','Unnamed: 11':'CH4-ppm','Unnamed: 12':'NCH4-ppm','Unnamed: 13':'O3-ppm','Unnamed: 14':'WS','Unnamed: 15':'WG','Unnamed: 16':'SOLAR','Unnamed: 17':'TEMP-IND','Unnamed: 18':'TEMP-AMB','Unnamed: 19':'CO2-ppm','Unnamed: 20':'WD-DEG','Unnamed: 21':'SECTOR'})\n",
        "test=test.rename(columns={'Unnamed: 1':'YEAR','Unnamed: 2':'MONTH','Unnamed: 3':'DAY','Unnamed: 4':'HOUR','Unnamed: 5':'SO2','Unnamed: 6':'NO','Unnamed: 7':'NOX','Unnamed: 8':'NO2-ppm','Unnamed: 9':'PM10','Unnamed: 10':'CO','Unnamed: 11':'CH4-ppm','Unnamed: 12':'NCH4-ppm','Unnamed: 13':'O3-ppm','Unnamed: 14':'WS','Unnamed: 15':'WG','Unnamed: 16':'SOLAR','Unnamed: 17':'TEMP-IND','Unnamed: 18':'TEMP-AMB','Unnamed: 19':'CO2-ppm','Unnamed: 20':'WD-DEG','Unnamed: 21':'SECTOR'})\n"
      ],
      "execution_count": null,
      "outputs": []
    },
    {
      "cell_type": "code",
      "metadata": {
        "id": "NElxPvoNOb-o"
      },
      "source": [
        "test=test[4:]"
      ],
      "execution_count": null,
      "outputs": []
    },
    {
      "cell_type": "code",
      "metadata": {
        "id": "LzYjsYW3kxeK"
      },
      "source": [
        "MONTH=test['YEAR'].astype(str)+str('-')+test['MONTH'].astype(str)+str('-')+test['DAY'].astype(str)+str(':')+test['HOUR'].astype(str)"
      ],
      "execution_count": null,
      "outputs": []
    },
    {
      "cell_type": "code",
      "metadata": {
        "colab": {
          "base_uri": "https://localhost:8080/"
        },
        "id": "4HPgse76R8lU",
        "outputId": "2eb46acb-c739-4718-f6de-5e62b45a6f6d"
      },
      "source": [
        "test.isnull().sum()\n"
      ],
      "execution_count": null,
      "outputs": [
        {
          "output_type": "execute_result",
          "data": {
            "text/plain": [
              "YEAR          0\n",
              "MONTH         0\n",
              "DAY           0\n",
              "HOUR          0\n",
              "SO2         869\n",
              "NO          124\n",
              "NOX         124\n",
              "NO2-ppm     124\n",
              "PM10        654\n",
              "CO          133\n",
              "CH4-ppm     976\n",
              "NCH4-ppm    976\n",
              "O3-ppm      222\n",
              "WS          119\n",
              "WG          119\n",
              "SOLAR       119\n",
              "TEMP-IND    119\n",
              "TEMP-AMB    119\n",
              "CO2-ppm     463\n",
              "WD-DEG      119\n",
              "SECTOR      119\n",
              "dtype: int64"
            ]
          },
          "metadata": {
            "tags": []
          },
          "execution_count": 10
        }
      ]
    },
    {
      "cell_type": "code",
      "metadata": {
        "id": "xMOrRRTRA0_2"
      },
      "source": [
        "train=train.dropna()\n",
        "#test=test.dropna()"
      ],
      "execution_count": null,
      "outputs": []
    },
    {
      "cell_type": "code",
      "metadata": {
        "id": "pcD0zAgkmlee"
      },
      "source": [
        "train=train.astype('float')"
      ],
      "execution_count": null,
      "outputs": []
    },
    {
      "cell_type": "code",
      "metadata": {
        "colab": {
          "base_uri": "https://localhost:8080/",
          "height": 456
        },
        "id": "AHjS7wnXmsDJ",
        "outputId": "d1ea7105-5456-43da-fc66-463bee4f3cc8"
      },
      "source": [
        "train"
      ],
      "execution_count": null,
      "outputs": [
        {
          "output_type": "execute_result",
          "data": {
            "text/html": [
              "<div>\n",
              "<style scoped>\n",
              "    .dataframe tbody tr th:only-of-type {\n",
              "        vertical-align: middle;\n",
              "    }\n",
              "\n",
              "    .dataframe tbody tr th {\n",
              "        vertical-align: top;\n",
              "    }\n",
              "\n",
              "    .dataframe thead th {\n",
              "        text-align: right;\n",
              "    }\n",
              "</style>\n",
              "<table border=\"1\" class=\"dataframe\">\n",
              "  <thead>\n",
              "    <tr style=\"text-align: right;\">\n",
              "      <th></th>\n",
              "      <th>YEAR</th>\n",
              "      <th>MONTH</th>\n",
              "      <th>DAY</th>\n",
              "      <th>HOUR</th>\n",
              "      <th>SO2</th>\n",
              "      <th>NO</th>\n",
              "      <th>NOX</th>\n",
              "      <th>NO2-ppm</th>\n",
              "      <th>PM10</th>\n",
              "      <th>CO</th>\n",
              "      <th>CH4-ppm</th>\n",
              "      <th>NCH4-ppm</th>\n",
              "      <th>O3-ppm</th>\n",
              "      <th>WS</th>\n",
              "      <th>WG</th>\n",
              "      <th>SOLAR</th>\n",
              "      <th>TEMP-IND</th>\n",
              "      <th>TEMP-AMB</th>\n",
              "      <th>CO2-ppm</th>\n",
              "      <th>WD-DEG</th>\n",
              "      <th>SECTOR</th>\n",
              "    </tr>\n",
              "  </thead>\n",
              "  <tbody>\n",
              "    <tr>\n",
              "      <th>4</th>\n",
              "      <td>2007.0</td>\n",
              "      <td>1.0</td>\n",
              "      <td>1.0</td>\n",
              "      <td>0.0</td>\n",
              "      <td>0.001000</td>\n",
              "      <td>0.005250</td>\n",
              "      <td>0.030833</td>\n",
              "      <td>0.023833</td>\n",
              "      <td>20.500000</td>\n",
              "      <td>1.058333</td>\n",
              "      <td>2.799167</td>\n",
              "      <td>0.032500</td>\n",
              "      <td>0.003750</td>\n",
              "      <td>1.783333</td>\n",
              "      <td>2.483333</td>\n",
              "      <td>4.046833</td>\n",
              "      <td>22.250000</td>\n",
              "      <td>5.333333</td>\n",
              "      <td>328.583333</td>\n",
              "      <td>277.666667</td>\n",
              "      <td>13.0</td>\n",
              "    </tr>\n",
              "    <tr>\n",
              "      <th>5</th>\n",
              "      <td>2007.0</td>\n",
              "      <td>1.0</td>\n",
              "      <td>1.0</td>\n",
              "      <td>1.0</td>\n",
              "      <td>0.001417</td>\n",
              "      <td>0.008917</td>\n",
              "      <td>0.036417</td>\n",
              "      <td>0.025167</td>\n",
              "      <td>13.583333</td>\n",
              "      <td>1.566667</td>\n",
              "      <td>2.778333</td>\n",
              "      <td>0.034167</td>\n",
              "      <td>0.002417</td>\n",
              "      <td>2.158333</td>\n",
              "      <td>2.866667</td>\n",
              "      <td>4.391833</td>\n",
              "      <td>21.666667</td>\n",
              "      <td>4.750000</td>\n",
              "      <td>325.916667</td>\n",
              "      <td>265.250000</td>\n",
              "      <td>13.0</td>\n",
              "    </tr>\n",
              "    <tr>\n",
              "      <th>6</th>\n",
              "      <td>2007.0</td>\n",
              "      <td>1.0</td>\n",
              "      <td>1.0</td>\n",
              "      <td>2.0</td>\n",
              "      <td>0.001083</td>\n",
              "      <td>0.003583</td>\n",
              "      <td>0.024917</td>\n",
              "      <td>0.019917</td>\n",
              "      <td>20.250000</td>\n",
              "      <td>1.275000</td>\n",
              "      <td>2.793333</td>\n",
              "      <td>0.025833</td>\n",
              "      <td>0.003500</td>\n",
              "      <td>2.450000</td>\n",
              "      <td>3.316667</td>\n",
              "      <td>6.068917</td>\n",
              "      <td>22.333333</td>\n",
              "      <td>4.000000</td>\n",
              "      <td>325.750000</td>\n",
              "      <td>266.500000</td>\n",
              "      <td>13.0</td>\n",
              "    </tr>\n",
              "    <tr>\n",
              "      <th>7</th>\n",
              "      <td>2007.0</td>\n",
              "      <td>1.0</td>\n",
              "      <td>1.0</td>\n",
              "      <td>3.0</td>\n",
              "      <td>0.001000</td>\n",
              "      <td>0.000833</td>\n",
              "      <td>0.009750</td>\n",
              "      <td>0.008583</td>\n",
              "      <td>9.416667</td>\n",
              "      <td>1.116667</td>\n",
              "      <td>2.739167</td>\n",
              "      <td>0.020000</td>\n",
              "      <td>0.006250</td>\n",
              "      <td>2.266667</td>\n",
              "      <td>3.141667</td>\n",
              "      <td>5.073750</td>\n",
              "      <td>21.583333</td>\n",
              "      <td>4.333333</td>\n",
              "      <td>319.916667</td>\n",
              "      <td>278.083333</td>\n",
              "      <td>13.0</td>\n",
              "    </tr>\n",
              "    <tr>\n",
              "      <th>8</th>\n",
              "      <td>2007.0</td>\n",
              "      <td>1.0</td>\n",
              "      <td>1.0</td>\n",
              "      <td>4.0</td>\n",
              "      <td>0.001000</td>\n",
              "      <td>0.000833</td>\n",
              "      <td>0.007083</td>\n",
              "      <td>0.006333</td>\n",
              "      <td>19.333333</td>\n",
              "      <td>1.066667</td>\n",
              "      <td>2.750000</td>\n",
              "      <td>0.018333</td>\n",
              "      <td>0.006583</td>\n",
              "      <td>2.408333</td>\n",
              "      <td>3.341667</td>\n",
              "      <td>5.486833</td>\n",
              "      <td>22.083333</td>\n",
              "      <td>4.000000</td>\n",
              "      <td>313.416667</td>\n",
              "      <td>285.583333</td>\n",
              "      <td>13.0</td>\n",
              "    </tr>\n",
              "    <tr>\n",
              "      <th>...</th>\n",
              "      <td>...</td>\n",
              "      <td>...</td>\n",
              "      <td>...</td>\n",
              "      <td>...</td>\n",
              "      <td>...</td>\n",
              "      <td>...</td>\n",
              "      <td>...</td>\n",
              "      <td>...</td>\n",
              "      <td>...</td>\n",
              "      <td>...</td>\n",
              "      <td>...</td>\n",
              "      <td>...</td>\n",
              "      <td>...</td>\n",
              "      <td>...</td>\n",
              "      <td>...</td>\n",
              "      <td>...</td>\n",
              "      <td>...</td>\n",
              "      <td>...</td>\n",
              "      <td>...</td>\n",
              "      <td>...</td>\n",
              "      <td>...</td>\n",
              "    </tr>\n",
              "    <tr>\n",
              "      <th>26311</th>\n",
              "      <td>2006.0</td>\n",
              "      <td>12.0</td>\n",
              "      <td>31.0</td>\n",
              "      <td>19.0</td>\n",
              "      <td>0.001417</td>\n",
              "      <td>0.026167</td>\n",
              "      <td>0.068917</td>\n",
              "      <td>0.040083</td>\n",
              "      <td>35.000000</td>\n",
              "      <td>1.158333</td>\n",
              "      <td>2.748333</td>\n",
              "      <td>0.050833</td>\n",
              "      <td>0.002250</td>\n",
              "      <td>1.791667</td>\n",
              "      <td>2.408333</td>\n",
              "      <td>3.677417</td>\n",
              "      <td>21.750000</td>\n",
              "      <td>8.000000</td>\n",
              "      <td>325.666667</td>\n",
              "      <td>299.166667</td>\n",
              "      <td>15.0</td>\n",
              "    </tr>\n",
              "    <tr>\n",
              "      <th>26312</th>\n",
              "      <td>2006.0</td>\n",
              "      <td>12.0</td>\n",
              "      <td>31.0</td>\n",
              "      <td>20.0</td>\n",
              "      <td>0.001917</td>\n",
              "      <td>0.023833</td>\n",
              "      <td>0.066833</td>\n",
              "      <td>0.040417</td>\n",
              "      <td>22.000000</td>\n",
              "      <td>0.508333</td>\n",
              "      <td>2.719167</td>\n",
              "      <td>0.071667</td>\n",
              "      <td>0.002083</td>\n",
              "      <td>1.600000</td>\n",
              "      <td>2.166667</td>\n",
              "      <td>3.502333</td>\n",
              "      <td>22.166667</td>\n",
              "      <td>7.166667</td>\n",
              "      <td>331.916667</td>\n",
              "      <td>287.500000</td>\n",
              "      <td>14.0</td>\n",
              "    </tr>\n",
              "    <tr>\n",
              "      <th>26313</th>\n",
              "      <td>2006.0</td>\n",
              "      <td>12.0</td>\n",
              "      <td>31.0</td>\n",
              "      <td>21.0</td>\n",
              "      <td>0.001417</td>\n",
              "      <td>0.013167</td>\n",
              "      <td>0.052833</td>\n",
              "      <td>0.037000</td>\n",
              "      <td>22.666667</td>\n",
              "      <td>0.341667</td>\n",
              "      <td>2.749167</td>\n",
              "      <td>0.047500</td>\n",
              "      <td>0.002417</td>\n",
              "      <td>2.016667</td>\n",
              "      <td>2.750000</td>\n",
              "      <td>5.448500</td>\n",
              "      <td>21.500000</td>\n",
              "      <td>7.000000</td>\n",
              "      <td>332.750000</td>\n",
              "      <td>295.500000</td>\n",
              "      <td>14.0</td>\n",
              "    </tr>\n",
              "    <tr>\n",
              "      <th>26314</th>\n",
              "      <td>2006.0</td>\n",
              "      <td>12.0</td>\n",
              "      <td>31.0</td>\n",
              "      <td>22.0</td>\n",
              "      <td>0.001000</td>\n",
              "      <td>0.007083</td>\n",
              "      <td>0.041000</td>\n",
              "      <td>0.031833</td>\n",
              "      <td>19.750000</td>\n",
              "      <td>0.283333</td>\n",
              "      <td>2.725000</td>\n",
              "      <td>0.035000</td>\n",
              "      <td>0.003667</td>\n",
              "      <td>2.600000</td>\n",
              "      <td>3.466667</td>\n",
              "      <td>5.096083</td>\n",
              "      <td>22.416667</td>\n",
              "      <td>6.750000</td>\n",
              "      <td>331.916667</td>\n",
              "      <td>298.416667</td>\n",
              "      <td>14.0</td>\n",
              "    </tr>\n",
              "    <tr>\n",
              "      <th>26315</th>\n",
              "      <td>2006.0</td>\n",
              "      <td>12.0</td>\n",
              "      <td>31.0</td>\n",
              "      <td>23.0</td>\n",
              "      <td>0.001083</td>\n",
              "      <td>0.006417</td>\n",
              "      <td>0.037250</td>\n",
              "      <td>0.028583</td>\n",
              "      <td>16.166667</td>\n",
              "      <td>0.241667</td>\n",
              "      <td>2.673000</td>\n",
              "      <td>0.045000</td>\n",
              "      <td>0.003250</td>\n",
              "      <td>2.125000</td>\n",
              "      <td>2.916667</td>\n",
              "      <td>4.724417</td>\n",
              "      <td>21.583333</td>\n",
              "      <td>6.000000</td>\n",
              "      <td>330.583333</td>\n",
              "      <td>290.083333</td>\n",
              "      <td>14.0</td>\n",
              "    </tr>\n",
              "  </tbody>\n",
              "</table>\n",
              "<p>18606 rows × 21 columns</p>\n",
              "</div>"
            ],
            "text/plain": [
              "         YEAR  MONTH   DAY  HOUR  ...  TEMP-AMB     CO2-ppm      WD-DEG  SECTOR\n",
              "4      2007.0    1.0   1.0   0.0  ...  5.333333  328.583333  277.666667    13.0\n",
              "5      2007.0    1.0   1.0   1.0  ...  4.750000  325.916667  265.250000    13.0\n",
              "6      2007.0    1.0   1.0   2.0  ...  4.000000  325.750000  266.500000    13.0\n",
              "7      2007.0    1.0   1.0   3.0  ...  4.333333  319.916667  278.083333    13.0\n",
              "8      2007.0    1.0   1.0   4.0  ...  4.000000  313.416667  285.583333    13.0\n",
              "...       ...    ...   ...   ...  ...       ...         ...         ...     ...\n",
              "26311  2006.0   12.0  31.0  19.0  ...  8.000000  325.666667  299.166667    15.0\n",
              "26312  2006.0   12.0  31.0  20.0  ...  7.166667  331.916667  287.500000    14.0\n",
              "26313  2006.0   12.0  31.0  21.0  ...  7.000000  332.750000  295.500000    14.0\n",
              "26314  2006.0   12.0  31.0  22.0  ...  6.750000  331.916667  298.416667    14.0\n",
              "26315  2006.0   12.0  31.0  23.0  ...  6.000000  330.583333  290.083333    14.0\n",
              "\n",
              "[18606 rows x 21 columns]"
            ]
          },
          "metadata": {
            "tags": []
          },
          "execution_count": 13
        }
      ]
    },
    {
      "cell_type": "code",
      "metadata": {
        "colab": {
          "base_uri": "https://localhost:8080/"
        },
        "id": "mUh4Qs6m4huV",
        "outputId": "d5fd842d-c4bc-4a20-bc49-a7ccd3f6b5ed"
      },
      "source": [
        "train.isnull().sum()"
      ],
      "execution_count": null,
      "outputs": [
        {
          "output_type": "execute_result",
          "data": {
            "text/plain": [
              "YEAR        0\n",
              "MONTH       0\n",
              "DAY         0\n",
              "HOUR        0\n",
              "SO2         0\n",
              "NO          0\n",
              "NOX         0\n",
              "NO2-ppm     0\n",
              "PM10        0\n",
              "CO          0\n",
              "CH4-ppm     0\n",
              "NCH4-ppm    0\n",
              "O3-ppm      0\n",
              "WS          0\n",
              "WG          0\n",
              "SOLAR       0\n",
              "TEMP-IND    0\n",
              "TEMP-AMB    0\n",
              "CO2-ppm     0\n",
              "WD-DEG      0\n",
              "SECTOR      0\n",
              "dtype: int64"
            ]
          },
          "metadata": {
            "tags": []
          },
          "execution_count": 14
        }
      ]
    },
    {
      "cell_type": "code",
      "metadata": {
        "colab": {
          "base_uri": "https://localhost:8080/"
        },
        "id": "W8gTPtcmC4dD",
        "outputId": "e7791afa-bb11-4d10-da99-afcec8a46026"
      },
      "source": [
        "test.isnull().sum()"
      ],
      "execution_count": null,
      "outputs": [
        {
          "output_type": "execute_result",
          "data": {
            "text/plain": [
              "YEAR        0\n",
              "MONTH       0\n",
              "DAY         0\n",
              "HOUR        0\n",
              "SO2         0\n",
              "NO          0\n",
              "NOX         0\n",
              "NO2-ppm     0\n",
              "PM10        0\n",
              "CO          0\n",
              "CH4-ppm     0\n",
              "NCH4-ppm    0\n",
              "O3-ppm      0\n",
              "WS          0\n",
              "WG          0\n",
              "SOLAR       0\n",
              "TEMP-IND    0\n",
              "TEMP-AMB    0\n",
              "CO2-ppm     0\n",
              "WD-DEG      0\n",
              "SECTOR      0\n",
              "dtype: int64"
            ]
          },
          "metadata": {
            "tags": []
          },
          "execution_count": 15
        }
      ]
    },
    {
      "cell_type": "code",
      "metadata": {
        "colab": {
          "base_uri": "https://localhost:8080/",
          "height": 241
        },
        "id": "zMR-KUO3EvDB",
        "outputId": "5de082c5-639e-40f3-d86d-44d602953d75"
      },
      "source": [
        "train.head()"
      ],
      "execution_count": null,
      "outputs": [
        {
          "output_type": "execute_result",
          "data": {
            "text/html": [
              "<div>\n",
              "<style scoped>\n",
              "    .dataframe tbody tr th:only-of-type {\n",
              "        vertical-align: middle;\n",
              "    }\n",
              "\n",
              "    .dataframe tbody tr th {\n",
              "        vertical-align: top;\n",
              "    }\n",
              "\n",
              "    .dataframe thead th {\n",
              "        text-align: right;\n",
              "    }\n",
              "</style>\n",
              "<table border=\"1\" class=\"dataframe\">\n",
              "  <thead>\n",
              "    <tr style=\"text-align: right;\">\n",
              "      <th></th>\n",
              "      <th>YEAR</th>\n",
              "      <th>MONTH</th>\n",
              "      <th>DAY</th>\n",
              "      <th>HOUR</th>\n",
              "      <th>SO2</th>\n",
              "      <th>NO</th>\n",
              "      <th>NOX</th>\n",
              "      <th>NO2-ppm</th>\n",
              "      <th>PM10</th>\n",
              "      <th>CO</th>\n",
              "      <th>CH4-ppm</th>\n",
              "      <th>NCH4-ppm</th>\n",
              "      <th>O3-ppm</th>\n",
              "      <th>WS</th>\n",
              "      <th>WG</th>\n",
              "      <th>SOLAR</th>\n",
              "      <th>TEMP-IND</th>\n",
              "      <th>TEMP-AMB</th>\n",
              "      <th>CO2-ppm</th>\n",
              "      <th>WD-DEG</th>\n",
              "      <th>SECTOR</th>\n",
              "    </tr>\n",
              "  </thead>\n",
              "  <tbody>\n",
              "    <tr>\n",
              "      <th>4</th>\n",
              "      <td>2007.0</td>\n",
              "      <td>1.0</td>\n",
              "      <td>1.0</td>\n",
              "      <td>0.0</td>\n",
              "      <td>0.001000</td>\n",
              "      <td>0.005250</td>\n",
              "      <td>0.030833</td>\n",
              "      <td>0.023833</td>\n",
              "      <td>20.500000</td>\n",
              "      <td>1.058333</td>\n",
              "      <td>2.799167</td>\n",
              "      <td>0.032500</td>\n",
              "      <td>0.003750</td>\n",
              "      <td>1.783333</td>\n",
              "      <td>2.483333</td>\n",
              "      <td>4.046833</td>\n",
              "      <td>22.250000</td>\n",
              "      <td>5.333333</td>\n",
              "      <td>328.583333</td>\n",
              "      <td>277.666667</td>\n",
              "      <td>13.0</td>\n",
              "    </tr>\n",
              "    <tr>\n",
              "      <th>5</th>\n",
              "      <td>2007.0</td>\n",
              "      <td>1.0</td>\n",
              "      <td>1.0</td>\n",
              "      <td>1.0</td>\n",
              "      <td>0.001417</td>\n",
              "      <td>0.008917</td>\n",
              "      <td>0.036417</td>\n",
              "      <td>0.025167</td>\n",
              "      <td>13.583333</td>\n",
              "      <td>1.566667</td>\n",
              "      <td>2.778333</td>\n",
              "      <td>0.034167</td>\n",
              "      <td>0.002417</td>\n",
              "      <td>2.158333</td>\n",
              "      <td>2.866667</td>\n",
              "      <td>4.391833</td>\n",
              "      <td>21.666667</td>\n",
              "      <td>4.750000</td>\n",
              "      <td>325.916667</td>\n",
              "      <td>265.250000</td>\n",
              "      <td>13.0</td>\n",
              "    </tr>\n",
              "    <tr>\n",
              "      <th>6</th>\n",
              "      <td>2007.0</td>\n",
              "      <td>1.0</td>\n",
              "      <td>1.0</td>\n",
              "      <td>2.0</td>\n",
              "      <td>0.001083</td>\n",
              "      <td>0.003583</td>\n",
              "      <td>0.024917</td>\n",
              "      <td>0.019917</td>\n",
              "      <td>20.250000</td>\n",
              "      <td>1.275000</td>\n",
              "      <td>2.793333</td>\n",
              "      <td>0.025833</td>\n",
              "      <td>0.003500</td>\n",
              "      <td>2.450000</td>\n",
              "      <td>3.316667</td>\n",
              "      <td>6.068917</td>\n",
              "      <td>22.333333</td>\n",
              "      <td>4.000000</td>\n",
              "      <td>325.750000</td>\n",
              "      <td>266.500000</td>\n",
              "      <td>13.0</td>\n",
              "    </tr>\n",
              "    <tr>\n",
              "      <th>7</th>\n",
              "      <td>2007.0</td>\n",
              "      <td>1.0</td>\n",
              "      <td>1.0</td>\n",
              "      <td>3.0</td>\n",
              "      <td>0.001000</td>\n",
              "      <td>0.000833</td>\n",
              "      <td>0.009750</td>\n",
              "      <td>0.008583</td>\n",
              "      <td>9.416667</td>\n",
              "      <td>1.116667</td>\n",
              "      <td>2.739167</td>\n",
              "      <td>0.020000</td>\n",
              "      <td>0.006250</td>\n",
              "      <td>2.266667</td>\n",
              "      <td>3.141667</td>\n",
              "      <td>5.073750</td>\n",
              "      <td>21.583333</td>\n",
              "      <td>4.333333</td>\n",
              "      <td>319.916667</td>\n",
              "      <td>278.083333</td>\n",
              "      <td>13.0</td>\n",
              "    </tr>\n",
              "    <tr>\n",
              "      <th>8</th>\n",
              "      <td>2007.0</td>\n",
              "      <td>1.0</td>\n",
              "      <td>1.0</td>\n",
              "      <td>4.0</td>\n",
              "      <td>0.001000</td>\n",
              "      <td>0.000833</td>\n",
              "      <td>0.007083</td>\n",
              "      <td>0.006333</td>\n",
              "      <td>19.333333</td>\n",
              "      <td>1.066667</td>\n",
              "      <td>2.750000</td>\n",
              "      <td>0.018333</td>\n",
              "      <td>0.006583</td>\n",
              "      <td>2.408333</td>\n",
              "      <td>3.341667</td>\n",
              "      <td>5.486833</td>\n",
              "      <td>22.083333</td>\n",
              "      <td>4.000000</td>\n",
              "      <td>313.416667</td>\n",
              "      <td>285.583333</td>\n",
              "      <td>13.0</td>\n",
              "    </tr>\n",
              "  </tbody>\n",
              "</table>\n",
              "</div>"
            ],
            "text/plain": [
              "     YEAR  MONTH  DAY  HOUR  ...  TEMP-AMB     CO2-ppm      WD-DEG  SECTOR\n",
              "4  2007.0    1.0  1.0   0.0  ...  5.333333  328.583333  277.666667    13.0\n",
              "5  2007.0    1.0  1.0   1.0  ...  4.750000  325.916667  265.250000    13.0\n",
              "6  2007.0    1.0  1.0   2.0  ...  4.000000  325.750000  266.500000    13.0\n",
              "7  2007.0    1.0  1.0   3.0  ...  4.333333  319.916667  278.083333    13.0\n",
              "8  2007.0    1.0  1.0   4.0  ...  4.000000  313.416667  285.583333    13.0\n",
              "\n",
              "[5 rows x 21 columns]"
            ]
          },
          "metadata": {
            "tags": []
          },
          "execution_count": 16
        }
      ]
    },
    {
      "cell_type": "code",
      "metadata": {
        "colab": {
          "base_uri": "https://localhost:8080/"
        },
        "id": "bJGiRXBTABSd",
        "outputId": "18219cfa-093b-47ed-9d4a-ed40c56550f3"
      },
      "source": [
        "train.shape,test.shape"
      ],
      "execution_count": null,
      "outputs": [
        {
          "output_type": "execute_result",
          "data": {
            "text/plain": [
              "((18606, 21), (6556, 21))"
            ]
          },
          "metadata": {
            "tags": []
          },
          "execution_count": 17
        }
      ]
    },
    {
      "cell_type": "markdown",
      "metadata": {
        "id": "RmfR4jGl1Xmu"
      },
      "source": [
        "## Data preprocessing"
      ]
    },
    {
      "cell_type": "code",
      "metadata": {
        "id": "348M9qXrTYdI"
      },
      "source": [
        "i = test[((test.YEAR == 'YEAR'))].index\n",
        "\n",
        "test=test.drop(i,axis=0)\n"
      ],
      "execution_count": null,
      "outputs": []
    },
    {
      "cell_type": "code",
      "metadata": {
        "id": "ruKU-TN98aUu",
        "colab": {
          "base_uri": "https://localhost:8080/",
          "height": 52
        },
        "outputId": "0c5a8f8e-9a16-4af2-c9a3-57ef6ded9694"
      },
      "source": [
        "'''\n",
        "MONTH=test['YEAR'].astype(str)+str('-')+test['MONTH'].astype(str)+str('-')+test['DAY'].astype(str)+str(':')+test['HOUR'].astype(str)\n",
        "'''"
      ],
      "execution_count": null,
      "outputs": [
        {
          "output_type": "execute_result",
          "data": {
            "application/vnd.google.colaboratory.intrinsic+json": {
              "type": "string"
            },
            "text/plain": [
              "\"\\nMONTH=test['YEAR'].astype(str)+str('-')+test['MONTH'].astype(str)+str('-')+test['DAY'].astype(str)+str(':')+test['HOUR'].astype(str)\\n\""
            ]
          },
          "metadata": {
            "tags": []
          },
          "execution_count": 19
        }
      ]
    },
    {
      "cell_type": "code",
      "metadata": {
        "id": "0T9BdsFOGbFh",
        "colab": {
          "base_uri": "https://localhost:8080/"
        },
        "outputId": "b10f5a84-f838-4048-f932-51972f724098"
      },
      "source": [
        "MONTH"
      ],
      "execution_count": null,
      "outputs": [
        {
          "output_type": "execute_result",
          "data": {
            "text/plain": [
              "0       Hourly Data For Jahra Fixed Station 2009-nan-n...\n",
              "1                                         nan-nan-nan:nan\n",
              "2                                       YEAR-MONTH-DAY:HR\n",
              "3                                         nan-nan-nan:nan\n",
              "4                                              2009-1-1:0\n",
              "                              ...                        \n",
              "8759                                        2009-12-31:19\n",
              "8760                                        2009-12-31:20\n",
              "8761                                        2009-12-31:21\n",
              "8762                                        2009-12-31:22\n",
              "8763                                        2009-12-31:23\n",
              "Length: 8764, dtype: object"
            ]
          },
          "metadata": {
            "tags": []
          },
          "execution_count": 20
        }
      ]
    },
    {
      "cell_type": "code",
      "metadata": {
        "id": "yVsayuiLyzDZ"
      },
      "source": [
        "\n",
        "train=train.drop(['YEAR','MONTH','DAY','HOUR'],axis=1)\n",
        "test=test.drop(['YEAR','MONTH','DAY','HOUR'],axis=1)\n"
      ],
      "execution_count": null,
      "outputs": []
    },
    {
      "cell_type": "code",
      "metadata": {
        "id": "0fIxrWc-Dry5"
      },
      "source": [
        "X_train = train.drop(\"O3-ppm\", axis=1)\n",
        "y_train = train[\"O3-ppm\"]\n",
        "X_test  = test.drop(\"O3-ppm\", axis=1)\n",
        "Y_test  = test[\"O3-ppm\"]\n"
      ],
      "execution_count": null,
      "outputs": []
    },
    {
      "cell_type": "code",
      "metadata": {
        "id": "Iy9SinD7tZSJ"
      },
      "source": [
        "from sklearn.preprocessing import StandardScaler\n",
        "X_train = StandardScaler().fit_transform(X_train)\n",
        "\n",
        "X_test = StandardScaler().fit_transform(X_test)\n"
      ],
      "execution_count": null,
      "outputs": []
    },
    {
      "cell_type": "markdown",
      "metadata": {
        "id": "JM42NjMHJEQd"
      },
      "source": [
        "## SVM"
      ]
    },
    {
      "cell_type": "code",
      "metadata": {
        "id": "qr4ORWb2F4gg"
      },
      "source": [
        "from sklearn.svm import SVR\n",
        "from sklearn.metrics import r2_score,mean_squared_error\n",
        "import seaborn as sns\n",
        "import matplotlib.pyplot as plt\n",
        "from sklearn.model_selection import GridSearchCV\n",
        "from sklearn import svm\n",
        "\n"
      ],
      "execution_count": null,
      "outputs": []
    },
    {
      "cell_type": "code",
      "metadata": {
        "id": "ytPJOZS3DxrQ",
        "colab": {
          "base_uri": "https://localhost:8080/",
          "height": 323
        },
        "outputId": "36de4365-bbaf-4583-fee9-2e3cbb866033"
      },
      "source": [
        "svr = SVR(kernel='rbf', C=1e3, gamma = 0.5, epsilon = 0.01)\n",
        "svm_pred = svr.fit(X_train, y_train).predict(X_test)"
      ],
      "execution_count": null,
      "outputs": [
        {
          "output_type": "error",
          "ename": "ValueError",
          "evalue": "ignored",
          "traceback": [
            "\u001b[0;31m---------------------------------------------------------------------------\u001b[0m",
            "\u001b[0;31mValueError\u001b[0m                                Traceback (most recent call last)",
            "\u001b[0;32m<ipython-input-18-934d53b06cd5>\u001b[0m in \u001b[0;36m<module>\u001b[0;34m()\u001b[0m\n\u001b[1;32m      1\u001b[0m \u001b[0msvr\u001b[0m \u001b[0;34m=\u001b[0m \u001b[0mSVR\u001b[0m\u001b[0;34m(\u001b[0m\u001b[0mkernel\u001b[0m\u001b[0;34m=\u001b[0m\u001b[0;34m'rbf'\u001b[0m\u001b[0;34m,\u001b[0m \u001b[0mC\u001b[0m\u001b[0;34m=\u001b[0m\u001b[0;36m1e3\u001b[0m\u001b[0;34m,\u001b[0m \u001b[0mgamma\u001b[0m \u001b[0;34m=\u001b[0m \u001b[0;36m0.5\u001b[0m\u001b[0;34m,\u001b[0m \u001b[0mepsilon\u001b[0m \u001b[0;34m=\u001b[0m \u001b[0;36m0.01\u001b[0m\u001b[0;34m)\u001b[0m\u001b[0;34m\u001b[0m\u001b[0;34m\u001b[0m\u001b[0m\n\u001b[0;32m----> 2\u001b[0;31m \u001b[0msvm_pred\u001b[0m \u001b[0;34m=\u001b[0m \u001b[0msvr\u001b[0m\u001b[0;34m.\u001b[0m\u001b[0mfit\u001b[0m\u001b[0;34m(\u001b[0m\u001b[0mX_train\u001b[0m\u001b[0;34m,\u001b[0m \u001b[0my_train\u001b[0m\u001b[0;34m)\u001b[0m\u001b[0;34m.\u001b[0m\u001b[0mpredict\u001b[0m\u001b[0;34m(\u001b[0m\u001b[0mX_test\u001b[0m\u001b[0;34m)\u001b[0m\u001b[0;34m\u001b[0m\u001b[0;34m\u001b[0m\u001b[0m\n\u001b[0m",
            "\u001b[0;32m/usr/local/lib/python3.7/dist-packages/sklearn/svm/_base.py\u001b[0m in \u001b[0;36mpredict\u001b[0;34m(self, X)\u001b[0m\n\u001b[1;32m    313\u001b[0m         \u001b[0my_pred\u001b[0m \u001b[0;34m:\u001b[0m \u001b[0marray\u001b[0m\u001b[0;34m,\u001b[0m \u001b[0mshape\u001b[0m \u001b[0;34m(\u001b[0m\u001b[0mn_samples\u001b[0m\u001b[0;34m,\u001b[0m\u001b[0;34m)\u001b[0m\u001b[0;34m\u001b[0m\u001b[0;34m\u001b[0m\u001b[0m\n\u001b[1;32m    314\u001b[0m         \"\"\"\n\u001b[0;32m--> 315\u001b[0;31m         \u001b[0mX\u001b[0m \u001b[0;34m=\u001b[0m \u001b[0mself\u001b[0m\u001b[0;34m.\u001b[0m\u001b[0m_validate_for_predict\u001b[0m\u001b[0;34m(\u001b[0m\u001b[0mX\u001b[0m\u001b[0;34m)\u001b[0m\u001b[0;34m\u001b[0m\u001b[0;34m\u001b[0m\u001b[0m\n\u001b[0m\u001b[1;32m    316\u001b[0m         \u001b[0mpredict\u001b[0m \u001b[0;34m=\u001b[0m \u001b[0mself\u001b[0m\u001b[0;34m.\u001b[0m\u001b[0m_sparse_predict\u001b[0m \u001b[0;32mif\u001b[0m \u001b[0mself\u001b[0m\u001b[0;34m.\u001b[0m\u001b[0m_sparse\u001b[0m \u001b[0;32melse\u001b[0m \u001b[0mself\u001b[0m\u001b[0;34m.\u001b[0m\u001b[0m_dense_predict\u001b[0m\u001b[0;34m\u001b[0m\u001b[0;34m\u001b[0m\u001b[0m\n\u001b[1;32m    317\u001b[0m         \u001b[0;32mreturn\u001b[0m \u001b[0mpredict\u001b[0m\u001b[0;34m(\u001b[0m\u001b[0mX\u001b[0m\u001b[0;34m)\u001b[0m\u001b[0;34m\u001b[0m\u001b[0;34m\u001b[0m\u001b[0m\n",
            "\u001b[0;32m/usr/local/lib/python3.7/dist-packages/sklearn/svm/_base.py\u001b[0m in \u001b[0;36m_validate_for_predict\u001b[0;34m(self, X)\u001b[0m\n\u001b[1;32m    445\u001b[0m \u001b[0;34m\u001b[0m\u001b[0m\n\u001b[1;32m    446\u001b[0m         X = check_array(X, accept_sparse='csr', dtype=np.float64, order=\"C\",\n\u001b[0;32m--> 447\u001b[0;31m                         accept_large_sparse=False)\n\u001b[0m\u001b[1;32m    448\u001b[0m         \u001b[0;32mif\u001b[0m \u001b[0mself\u001b[0m\u001b[0;34m.\u001b[0m\u001b[0m_sparse\u001b[0m \u001b[0;32mand\u001b[0m \u001b[0;32mnot\u001b[0m \u001b[0msp\u001b[0m\u001b[0;34m.\u001b[0m\u001b[0misspmatrix\u001b[0m\u001b[0;34m(\u001b[0m\u001b[0mX\u001b[0m\u001b[0;34m)\u001b[0m\u001b[0;34m:\u001b[0m\u001b[0;34m\u001b[0m\u001b[0;34m\u001b[0m\u001b[0m\n\u001b[1;32m    449\u001b[0m             \u001b[0mX\u001b[0m \u001b[0;34m=\u001b[0m \u001b[0msp\u001b[0m\u001b[0;34m.\u001b[0m\u001b[0mcsr_matrix\u001b[0m\u001b[0;34m(\u001b[0m\u001b[0mX\u001b[0m\u001b[0;34m)\u001b[0m\u001b[0;34m\u001b[0m\u001b[0;34m\u001b[0m\u001b[0m\n",
            "\u001b[0;32m/usr/local/lib/python3.7/dist-packages/sklearn/utils/validation.py\u001b[0m in \u001b[0;36mcheck_array\u001b[0;34m(array, accept_sparse, accept_large_sparse, dtype, order, copy, force_all_finite, ensure_2d, allow_nd, ensure_min_samples, ensure_min_features, warn_on_dtype, estimator)\u001b[0m\n\u001b[1;32m    576\u001b[0m         \u001b[0;32mif\u001b[0m \u001b[0mforce_all_finite\u001b[0m\u001b[0;34m:\u001b[0m\u001b[0;34m\u001b[0m\u001b[0;34m\u001b[0m\u001b[0m\n\u001b[1;32m    577\u001b[0m             _assert_all_finite(array,\n\u001b[0;32m--> 578\u001b[0;31m                                allow_nan=force_all_finite == 'allow-nan')\n\u001b[0m\u001b[1;32m    579\u001b[0m \u001b[0;34m\u001b[0m\u001b[0m\n\u001b[1;32m    580\u001b[0m     \u001b[0;32mif\u001b[0m \u001b[0mensure_min_samples\u001b[0m \u001b[0;34m>\u001b[0m \u001b[0;36m0\u001b[0m\u001b[0;34m:\u001b[0m\u001b[0;34m\u001b[0m\u001b[0;34m\u001b[0m\u001b[0m\n",
            "\u001b[0;32m/usr/local/lib/python3.7/dist-packages/sklearn/utils/validation.py\u001b[0m in \u001b[0;36m_assert_all_finite\u001b[0;34m(X, allow_nan, msg_dtype)\u001b[0m\n\u001b[1;32m     58\u001b[0m                     \u001b[0mmsg_err\u001b[0m\u001b[0;34m.\u001b[0m\u001b[0mformat\u001b[0m\u001b[0;34m\u001b[0m\u001b[0;34m\u001b[0m\u001b[0m\n\u001b[1;32m     59\u001b[0m                     (type_err,\n\u001b[0;32m---> 60\u001b[0;31m                      msg_dtype if msg_dtype is not None else X.dtype)\n\u001b[0m\u001b[1;32m     61\u001b[0m             )\n\u001b[1;32m     62\u001b[0m     \u001b[0;31m# for object dtype data, we only check for NaNs (GH-13254)\u001b[0m\u001b[0;34m\u001b[0m\u001b[0;34m\u001b[0m\u001b[0;34m\u001b[0m\u001b[0m\n",
            "\u001b[0;31mValueError\u001b[0m: Input contains NaN, infinity or a value too large for dtype('float64')."
          ]
        }
      ]
    },
    {
      "cell_type": "code",
      "metadata": {
        "id": "Kztd4-KLo65f"
      },
      "source": [
        "svm_pred"
      ],
      "execution_count": null,
      "outputs": []
    },
    {
      "cell_type": "code",
      "metadata": {
        "colab": {
          "base_uri": "https://localhost:8080/",
          "height": 197
        },
        "id": "emScIffrUlcs",
        "outputId": "21cfce2f-42d3-4a4e-ff2e-d0cc0abd56ac"
      },
      "source": [
        "import numpy as np\n",
        "mse1=mean_absolute_error(Y_test,svm_pred)\n",
        "mse1"
      ],
      "execution_count": null,
      "outputs": [
        {
          "output_type": "error",
          "ename": "NameError",
          "evalue": "ignored",
          "traceback": [
            "\u001b[0;31m---------------------------------------------------------------------------\u001b[0m",
            "\u001b[0;31mNameError\u001b[0m                                 Traceback (most recent call last)",
            "\u001b[0;32m<ipython-input-19-4d94a430f98c>\u001b[0m in \u001b[0;36m<module>\u001b[0;34m()\u001b[0m\n\u001b[1;32m      1\u001b[0m \u001b[0;32mimport\u001b[0m \u001b[0mnumpy\u001b[0m \u001b[0;32mas\u001b[0m \u001b[0mnp\u001b[0m\u001b[0;34m\u001b[0m\u001b[0;34m\u001b[0m\u001b[0m\n\u001b[0;32m----> 2\u001b[0;31m \u001b[0mmse1\u001b[0m\u001b[0;34m=\u001b[0m\u001b[0mmean_absolute_error\u001b[0m\u001b[0;34m(\u001b[0m\u001b[0mY_test\u001b[0m\u001b[0;34m,\u001b[0m\u001b[0msvm_pred\u001b[0m\u001b[0;34m)\u001b[0m\u001b[0;34m\u001b[0m\u001b[0;34m\u001b[0m\u001b[0m\n\u001b[0m\u001b[1;32m      3\u001b[0m \u001b[0mmse1\u001b[0m\u001b[0;34m\u001b[0m\u001b[0;34m\u001b[0m\u001b[0m\n",
            "\u001b[0;31mNameError\u001b[0m: name 'svm_pred' is not defined"
          ]
        }
      ]
    },
    {
      "cell_type": "markdown",
      "metadata": {
        "id": "ICrYy4jjdzag"
      },
      "source": [
        "## PLS Regression"
      ]
    },
    {
      "cell_type": "code",
      "metadata": {
        "id": "YkQOrDvAdzEl"
      },
      "source": [
        "from sklearn.cross_decomposition import PLSRegression\n",
        "pls2 = PLSRegression()\n",
        "pls2.fit(X_train, y_train)\n",
        "\n",
        "pls_pred = pls2.predict(X_test)"
      ],
      "execution_count": null,
      "outputs": []
    },
    {
      "cell_type": "code",
      "metadata": {
        "colab": {
          "base_uri": "https://localhost:8080/"
        },
        "id": "S_6PlO1EfGu6",
        "outputId": "76d2a388-55f5-4be7-a22d-61dbd53b0d92"
      },
      "source": [
        "mse2=mean_absolute_error(Y_test,pls_pred)\n",
        "\n",
        "mse2"
      ],
      "execution_count": null,
      "outputs": [
        {
          "output_type": "execute_result",
          "data": {
            "text/plain": [
              "0.010799792361613152"
            ]
          },
          "metadata": {
            "tags": []
          },
          "execution_count": 29
        }
      ]
    },
    {
      "cell_type": "code",
      "metadata": {
        "id": "TY9jHtselt2g"
      },
      "source": [
        "from sklearn.preprocessing import scale \n",
        "from sklearn import model_selection \n",
        "from sklearn.decomposition import PCA\n",
        "from sklearn.linear_model import LinearRegression\n",
        "from sklearn.cross_decomposition import PLSRegression, PLSSVD\n",
        "from sklearn.metrics import mean_squared_error"
      ],
      "execution_count": null,
      "outputs": []
    },
    {
      "cell_type": "code",
      "metadata": {
        "colab": {
          "base_uri": "https://localhost:8080/",
          "height": 1000
        },
        "id": "kjC3-MjhkkJp",
        "outputId": "43ed4a06-8ad4-48f2-eca8-c9f281829492"
      },
      "source": [
        "n = len(X_train)\n",
        "\n",
        "# 10-fold CV, with shuffle\n",
        "kf_10 = model_selection.KFold(n_splits=10, shuffle=True, random_state=1)\n",
        "\n",
        "mse = []\n",
        "\n",
        "for i in np.arange(1, 20):\n",
        "    pls = PLSRegression(n_components=i)\n",
        "    score = model_selection.cross_val_score(pls, scale(X_train), y_train, cv=kf_10, scoring='neg_mean_squared_error').mean()\n",
        "    mse.append(-score)\n",
        "\n",
        "# Plot results\n",
        "plt.plot(np.arange(1, 20), np.array(mse), '-v')\n",
        "plt.xlabel('Number of principal components in regression')\n",
        "plt.ylabel('MSE')\n",
        "plt.title('Plot of PLS regression components')\n",
        "plt.xlim(xmin=-1)"
      ],
      "execution_count": null,
      "outputs": [
        {
          "output_type": "stream",
          "text": [
            "/usr/local/lib/python3.7/dist-packages/sklearn/model_selection/_validation.py:536: FitFailedWarning: Estimator fit failed. The score on this train-test partition for these parameters will be set to nan. Details: \n",
            "ValueError: Invalid number of components: 17\n",
            "\n",
            "  FitFailedWarning)\n",
            "/usr/local/lib/python3.7/dist-packages/sklearn/model_selection/_validation.py:536: FitFailedWarning: Estimator fit failed. The score on this train-test partition for these parameters will be set to nan. Details: \n",
            "ValueError: Invalid number of components: 17\n",
            "\n",
            "  FitFailedWarning)\n",
            "/usr/local/lib/python3.7/dist-packages/sklearn/model_selection/_validation.py:536: FitFailedWarning: Estimator fit failed. The score on this train-test partition for these parameters will be set to nan. Details: \n",
            "ValueError: Invalid number of components: 17\n",
            "\n",
            "  FitFailedWarning)\n",
            "/usr/local/lib/python3.7/dist-packages/sklearn/model_selection/_validation.py:536: FitFailedWarning: Estimator fit failed. The score on this train-test partition for these parameters will be set to nan. Details: \n",
            "ValueError: Invalid number of components: 17\n",
            "\n",
            "  FitFailedWarning)\n",
            "/usr/local/lib/python3.7/dist-packages/sklearn/model_selection/_validation.py:536: FitFailedWarning: Estimator fit failed. The score on this train-test partition for these parameters will be set to nan. Details: \n",
            "ValueError: Invalid number of components: 17\n",
            "\n",
            "  FitFailedWarning)\n",
            "/usr/local/lib/python3.7/dist-packages/sklearn/model_selection/_validation.py:536: FitFailedWarning: Estimator fit failed. The score on this train-test partition for these parameters will be set to nan. Details: \n",
            "ValueError: Invalid number of components: 17\n",
            "\n",
            "  FitFailedWarning)\n",
            "/usr/local/lib/python3.7/dist-packages/sklearn/model_selection/_validation.py:536: FitFailedWarning: Estimator fit failed. The score on this train-test partition for these parameters will be set to nan. Details: \n",
            "ValueError: Invalid number of components: 17\n",
            "\n",
            "  FitFailedWarning)\n",
            "/usr/local/lib/python3.7/dist-packages/sklearn/model_selection/_validation.py:536: FitFailedWarning: Estimator fit failed. The score on this train-test partition for these parameters will be set to nan. Details: \n",
            "ValueError: Invalid number of components: 17\n",
            "\n",
            "  FitFailedWarning)\n",
            "/usr/local/lib/python3.7/dist-packages/sklearn/model_selection/_validation.py:536: FitFailedWarning: Estimator fit failed. The score on this train-test partition for these parameters will be set to nan. Details: \n",
            "ValueError: Invalid number of components: 17\n",
            "\n",
            "  FitFailedWarning)\n",
            "/usr/local/lib/python3.7/dist-packages/sklearn/model_selection/_validation.py:536: FitFailedWarning: Estimator fit failed. The score on this train-test partition for these parameters will be set to nan. Details: \n",
            "ValueError: Invalid number of components: 17\n",
            "\n",
            "  FitFailedWarning)\n",
            "/usr/local/lib/python3.7/dist-packages/sklearn/model_selection/_validation.py:536: FitFailedWarning: Estimator fit failed. The score on this train-test partition for these parameters will be set to nan. Details: \n",
            "ValueError: Invalid number of components: 18\n",
            "\n",
            "  FitFailedWarning)\n",
            "/usr/local/lib/python3.7/dist-packages/sklearn/model_selection/_validation.py:536: FitFailedWarning: Estimator fit failed. The score on this train-test partition for these parameters will be set to nan. Details: \n",
            "ValueError: Invalid number of components: 18\n",
            "\n",
            "  FitFailedWarning)\n",
            "/usr/local/lib/python3.7/dist-packages/sklearn/model_selection/_validation.py:536: FitFailedWarning: Estimator fit failed. The score on this train-test partition for these parameters will be set to nan. Details: \n",
            "ValueError: Invalid number of components: 18\n",
            "\n",
            "  FitFailedWarning)\n",
            "/usr/local/lib/python3.7/dist-packages/sklearn/model_selection/_validation.py:536: FitFailedWarning: Estimator fit failed. The score on this train-test partition for these parameters will be set to nan. Details: \n",
            "ValueError: Invalid number of components: 18\n",
            "\n",
            "  FitFailedWarning)\n",
            "/usr/local/lib/python3.7/dist-packages/sklearn/model_selection/_validation.py:536: FitFailedWarning: Estimator fit failed. The score on this train-test partition for these parameters will be set to nan. Details: \n",
            "ValueError: Invalid number of components: 18\n",
            "\n",
            "  FitFailedWarning)\n",
            "/usr/local/lib/python3.7/dist-packages/sklearn/model_selection/_validation.py:536: FitFailedWarning: Estimator fit failed. The score on this train-test partition for these parameters will be set to nan. Details: \n",
            "ValueError: Invalid number of components: 18\n",
            "\n",
            "  FitFailedWarning)\n",
            "/usr/local/lib/python3.7/dist-packages/sklearn/model_selection/_validation.py:536: FitFailedWarning: Estimator fit failed. The score on this train-test partition for these parameters will be set to nan. Details: \n",
            "ValueError: Invalid number of components: 18\n",
            "\n",
            "  FitFailedWarning)\n",
            "/usr/local/lib/python3.7/dist-packages/sklearn/model_selection/_validation.py:536: FitFailedWarning: Estimator fit failed. The score on this train-test partition for these parameters will be set to nan. Details: \n",
            "ValueError: Invalid number of components: 18\n",
            "\n",
            "  FitFailedWarning)\n",
            "/usr/local/lib/python3.7/dist-packages/sklearn/model_selection/_validation.py:536: FitFailedWarning: Estimator fit failed. The score on this train-test partition for these parameters will be set to nan. Details: \n",
            "ValueError: Invalid number of components: 18\n",
            "\n",
            "  FitFailedWarning)\n",
            "/usr/local/lib/python3.7/dist-packages/sklearn/model_selection/_validation.py:536: FitFailedWarning: Estimator fit failed. The score on this train-test partition for these parameters will be set to nan. Details: \n",
            "ValueError: Invalid number of components: 18\n",
            "\n",
            "  FitFailedWarning)\n",
            "/usr/local/lib/python3.7/dist-packages/sklearn/model_selection/_validation.py:536: FitFailedWarning: Estimator fit failed. The score on this train-test partition for these parameters will be set to nan. Details: \n",
            "ValueError: Invalid number of components: 19\n",
            "\n",
            "  FitFailedWarning)\n",
            "/usr/local/lib/python3.7/dist-packages/sklearn/model_selection/_validation.py:536: FitFailedWarning: Estimator fit failed. The score on this train-test partition for these parameters will be set to nan. Details: \n",
            "ValueError: Invalid number of components: 19\n",
            "\n",
            "  FitFailedWarning)\n",
            "/usr/local/lib/python3.7/dist-packages/sklearn/model_selection/_validation.py:536: FitFailedWarning: Estimator fit failed. The score on this train-test partition for these parameters will be set to nan. Details: \n",
            "ValueError: Invalid number of components: 19\n",
            "\n",
            "  FitFailedWarning)\n",
            "/usr/local/lib/python3.7/dist-packages/sklearn/model_selection/_validation.py:536: FitFailedWarning: Estimator fit failed. The score on this train-test partition for these parameters will be set to nan. Details: \n",
            "ValueError: Invalid number of components: 19\n",
            "\n",
            "  FitFailedWarning)\n",
            "/usr/local/lib/python3.7/dist-packages/sklearn/model_selection/_validation.py:536: FitFailedWarning: Estimator fit failed. The score on this train-test partition for these parameters will be set to nan. Details: \n",
            "ValueError: Invalid number of components: 19\n",
            "\n",
            "  FitFailedWarning)\n",
            "/usr/local/lib/python3.7/dist-packages/sklearn/model_selection/_validation.py:536: FitFailedWarning: Estimator fit failed. The score on this train-test partition for these parameters will be set to nan. Details: \n",
            "ValueError: Invalid number of components: 19\n",
            "\n",
            "  FitFailedWarning)\n",
            "/usr/local/lib/python3.7/dist-packages/sklearn/model_selection/_validation.py:536: FitFailedWarning: Estimator fit failed. The score on this train-test partition for these parameters will be set to nan. Details: \n",
            "ValueError: Invalid number of components: 19\n",
            "\n",
            "  FitFailedWarning)\n",
            "/usr/local/lib/python3.7/dist-packages/sklearn/model_selection/_validation.py:536: FitFailedWarning: Estimator fit failed. The score on this train-test partition for these parameters will be set to nan. Details: \n",
            "ValueError: Invalid number of components: 19\n",
            "\n",
            "  FitFailedWarning)\n",
            "/usr/local/lib/python3.7/dist-packages/sklearn/model_selection/_validation.py:536: FitFailedWarning: Estimator fit failed. The score on this train-test partition for these parameters will be set to nan. Details: \n",
            "ValueError: Invalid number of components: 19\n",
            "\n",
            "  FitFailedWarning)\n",
            "/usr/local/lib/python3.7/dist-packages/sklearn/model_selection/_validation.py:536: FitFailedWarning: Estimator fit failed. The score on this train-test partition for these parameters will be set to nan. Details: \n",
            "ValueError: Invalid number of components: 19\n",
            "\n",
            "  FitFailedWarning)\n"
          ],
          "name": "stderr"
        },
        {
          "output_type": "execute_result",
          "data": {
            "text/plain": [
              "(-1.0, 16.75)"
            ]
          },
          "metadata": {
            "tags": []
          },
          "execution_count": 31
        },
        {
          "output_type": "display_data",
          "data": {
            "image/png": "[encoded data removed]",
            "text/plain": [
              "<Figure size 432x288 with 1 Axes>"
            ]
          },
          "metadata": {
            "tags": [],
            "needs_background": "light"
          }
        }
      ]
    },
    {
      "cell_type": "markdown",
      "metadata": {
        "id": "vBWNTb44dwzw"
      },
      "source": [
        "## Multiple Regression"
      ]
    },
    {
      "cell_type": "code",
      "metadata": {
        "id": "_nKkz6PLLMLC"
      },
      "source": [
        "from sklearn import linear_model\n",
        "regr = linear_model.LinearRegression()\n",
        "\n",
        "rg=regr.fit(X_train, y_train)\n",
        "\n",
        "rg_pred = regr.predict(X_test)"
      ],
      "execution_count": null,
      "outputs": []
    },
    {
      "cell_type": "code",
      "metadata": {
        "colab": {
          "base_uri": "https://localhost:8080/"
        },
        "id": "GtnVTtwhLYQw",
        "outputId": "8745487b-bb6f-49e0-b2c5-5cb1057c386b"
      },
      "source": [
        "from sklearn.metrics import mean_absolute_error\n",
        "\n",
        "mse3=mean_absolute_error(Y_test,rg_pred)\n",
        "mse3"
      ],
      "execution_count": null,
      "outputs": [
        {
          "output_type": "execute_result",
          "data": {
            "text/plain": [
              "0.01086596669436144"
            ]
          },
          "metadata": {
            "tags": []
          },
          "execution_count": 33
        }
      ]
    },
    {
      "cell_type": "code",
      "metadata": {
        "colab": {
          "base_uri": "https://localhost:8080/"
        },
        "id": "aHDANiH3d5jV",
        "outputId": "ee9ce89b-cdb3-46ca-e59a-7790da0c860c"
      },
      "source": [
        "print(rg.coef_)"
      ],
      "execution_count": null,
      "outputs": [
        {
          "output_type": "stream",
          "text": [
            "[ 0.00127725  0.03718478 -0.04471889  0.00671112 -0.00052222 -0.00044297\n",
            " -0.00077271 -0.00044424 -0.00425894  0.00545348  0.00312656 -0.00138265\n",
            "  0.00463292  0.0007502  -0.00068164  0.00017907]\n"
          ],
          "name": "stdout"
        }
      ]
    },
    {
      "cell_type": "code",
      "metadata": {
        "colab": {
          "base_uri": "https://localhost:8080/",
          "height": 283
        },
        "id": "DzDeAIw4emJY",
        "outputId": "4a3d640c-6f4d-4bad-9f0c-ca3e0ead234d"
      },
      "source": [
        "plt.plot(rg.coef_)"
      ],
      "execution_count": null,
      "outputs": [
        {
          "output_type": "execute_result",
          "data": {
            "text/plain": [
              "[<matplotlib.lines.Line2D at 0x7f0e4a9c9f50>]"
            ]
          },
          "metadata": {
            "tags": []
          },
          "execution_count": 35
        },
        {
          "output_type": "display_data",
          "data": {
            "image/png": "[encoded data removed]",
            "text/plain": [
              "<Figure size 432x288 with 1 Axes>"
            ]
          },
          "metadata": {
            "tags": [],
            "needs_background": "light"
          }
        }
      ]
    },
    {
      "cell_type": "code",
      "metadata": {
        "colab": {
          "base_uri": "https://localhost:8080/"
        },
        "id": "LjJx11OTfpsa",
        "outputId": "278475bc-e9ed-4769-caa8-fd4befb65abb"
      },
      "source": [
        "from statsmodels.regression.linear_model import OLS\n",
        "\n",
        "model = OLS(y_train,X_train)\n",
        "results = model.fit()\n",
        "su = results.summary()\n",
        "su.as_csv"
      ],
      "execution_count": null,
      "outputs": [
        {
          "output_type": "stream",
          "text": [
            "/usr/local/lib/python3.7/dist-packages/statsmodels/tools/_testing.py:19: FutureWarning: pandas.util.testing is deprecated. Use the functions in the public API at pandas.testing instead.\n",
            "  import pandas.util.testing as tm\n"
          ],
          "name": "stderr"
        },
        {
          "output_type": "execute_result",
          "data": {
            "text/plain": [
              "<bound method Summary.as_csv of <class 'statsmodels.iolib.summary.Summary'>\n",
              "\"\"\"\n",
              "                                 OLS Regression Results                                \n",
              "=======================================================================================\n",
              "Dep. Variable:                 O3-ppm   R-squared (uncentered):                   0.239\n",
              "Model:                            OLS   Adj. R-squared (uncentered):              0.238\n",
              "Method:                 Least Squares   F-statistic:                              364.1\n",
              "Date:                Tue, 16 Mar 2021   Prob (F-statistic):                        0.00\n",
              "Time:                        10:28:21   Log-Likelihood:                          47278.\n",
              "No. Observations:               18606   AIC:                                 -9.452e+04\n",
              "Df Residuals:                   18590   BIC:                                 -9.440e+04\n",
              "Df Model:                          16                                                  \n",
              "Covariance Type:            nonrobust                                                  \n",
              "==============================================================================\n",
              "                 coef    std err          t      P>|t|      [0.025      0.975]\n",
              "------------------------------------------------------------------------------\n",
              "x1             0.0013      0.000      8.493      0.000       0.001       0.002\n",
              "x2             0.0372      0.005      7.175      0.000       0.027       0.047\n",
              "x3            -0.0447      0.006     -7.231      0.000      -0.057      -0.033\n",
              "x4             0.0067      0.002      4.054      0.000       0.003       0.010\n",
              "x5            -0.0005      0.000     -3.659      0.000      -0.001      -0.000\n",
              "x6            -0.0004      0.000     -1.944      0.052      -0.001    3.61e-06\n",
              "x7            -0.0008      0.000     -5.247      0.000      -0.001      -0.000\n",
              "x8            -0.0004      0.000     -2.852      0.004      -0.001      -0.000\n",
              "x9            -0.0043      0.001     -3.299      0.001      -0.007      -0.002\n",
              "x10            0.0055      0.001      4.170      0.000       0.003       0.008\n",
              "x11            0.0031      0.000     18.346      0.000       0.003       0.003\n",
              "x12           -0.0014      0.000     -8.776      0.000      -0.002      -0.001\n",
              "x13            0.0046      0.000     28.475      0.000       0.004       0.005\n",
              "x14            0.0008      0.000      3.515      0.000       0.000       0.001\n",
              "x15           -0.0007      0.000     -2.017      0.044      -0.001   -1.92e-05\n",
              "x16            0.0002      0.000      0.535      0.593      -0.000       0.001\n",
              "==============================================================================\n",
              "Omnibus:                     3780.832   Durbin-Watson:                   0.058\n",
              "Prob(Omnibus):                  0.000   Jarque-Bera (JB):            22419.881\n",
              "Skew:                           0.847   Prob(JB):                         0.00\n",
              "Kurtosis:                       8.104   Cond. No.                         133.\n",
              "==============================================================================\n",
              "\n",
              "Warnings:\n",
              "[1] Standard Errors assume that the covariance matrix of the errors is correctly specified.\n",
              "\"\"\">"
            ]
          },
          "metadata": {
            "tags": []
          },
          "execution_count": 36
        }
      ]
    },
    {
      "cell_type": "markdown",
      "metadata": {
        "id": "14pXp6Q8rbkf"
      },
      "source": [
        "# Chalenge"
      ]
    },
    {
      "cell_type": "markdown",
      "metadata": {
        "id": "18OCQiYZcCTS"
      },
      "source": [
        "\n",
        "\n",
        "```\n",
        "# Ce texte est au format code\n",
        "```\n",
        "\n",
        "\n",
        "## Gradient Boosting regression\n"
      ]
    },
    {
      "cell_type": "code",
      "metadata": {
        "id": "Z428bxwKNp5J",
        "colab": {
          "base_uri": "https://localhost:8080/"
        },
        "outputId": "426c7339-db36-4c32-b1ab-b4238501a67e"
      },
      "source": [
        "params = {'n_estimators': 500,\n",
        "          'max_depth': 4,\n",
        "          'min_samples_split': 5,\n",
        "          'learning_rate': 0.01,\n",
        "          'loss': 'ls'}\n",
        "reg = ensemble.GradientBoostingRegressor(**params)\n",
        "reg.fit(X_train, y_train)\n",
        "gbr_pred_R = reg.predict(X_test)\n",
        "\n",
        "mse4 = mean_squared_error(Y_test, reg.predict(X_test))\n",
        "print(\"The mean squared error (MSE) on test set: {:.4f}\".format(mse4))"
      ],
      "execution_count": null,
      "outputs": [
        {
          "output_type": "stream",
          "text": [
            "The mean squared error (MSE) on test set: 0.0001\n"
          ],
          "name": "stdout"
        }
      ]
    },
    {
      "cell_type": "code",
      "metadata": {
        "colab": {
          "base_uri": "https://localhost:8080/",
          "height": 441
        },
        "id": "q3WhwdwVb5_T",
        "outputId": "b92ab68c-1f8e-47bf-b74e-e35a3671c8c5"
      },
      "source": [
        "test_score = np.zeros((params['n_estimators'],), dtype=np.float64)\n",
        "for i, y_pred in enumerate(reg.staged_predict(X_test)):\n",
        "    test_score[i] = reg.loss_(Y_test, y_pred)\n",
        "\n",
        "fig = plt.figure(figsize=(6, 6))\n",
        "plt.subplot(1, 1, 1)\n",
        "plt.title('Deviance')\n",
        "plt.plot(np.arange(params['n_estimators']) + 1, reg.train_score_, 'b-',\n",
        "         label='Training Set Deviance')\n",
        "plt.plot(np.arange(params['n_estimators']) + 1, test_score, 'r-',\n",
        "         label='Test Set Deviance')\n",
        "plt.legend(loc='upper right')\n",
        "plt.xlabel('Boosting Iterations')\n",
        "plt.ylabel('Deviance')\n",
        "fig.tight_layout()\n",
        "plt.show()"
      ],
      "execution_count": null,
      "outputs": [
        {
          "output_type": "display_data",
          "data": {
            "image/png": "[encoded data removed]",
            "text/plain": [
              "<Figure size 432x432 with 1 Axes>"
            ]
          },
          "metadata": {
            "tags": [],
            "needs_background": "light"
          }
        }
      ]
    },
    {
      "cell_type": "code",
      "metadata": {
        "colab": {
          "base_uri": "https://localhost:8080/",
          "height": 441
        },
        "id": "66-XQengGNLK",
        "outputId": "812c60d3-27cb-4157-d224-3b3d5f6ec11c"
      },
      "source": [
        "feature_importance = reg.feature_importances_\n",
        "sorted_idx = np.argsort(feature_importance)\n",
        "pos = np.arange(sorted_idx.shape[0]) + .5\n",
        "fig = plt.figure(figsize=(12, 6))\n",
        "plt.subplot(1, 2, 1)\n",
        "plt.barh(pos, feature_importance[sorted_idx], align='center')\n",
        "plt.yticks(pos, np.array(train.columns)[sorted_idx])\n",
        "plt.title('Feature Importance (MDI)')\n",
        "\n",
        "fig.tight_layout()\n",
        "plt.show()"
      ],
      "execution_count": null,
      "outputs": [
        {
          "output_type": "display_data",
          "data": {
            "image/png": "[encoded data removed]",
            "text/plain": [
              "<Figure size 864x432 with 1 Axes>"
            ]
          },
          "metadata": {
            "tags": [],
            "needs_background": "light"
          }
        }
      ]
    },
    {
      "cell_type": "markdown",
      "metadata": {
        "id": "Pnt6u6WtQGMF"
      },
      "source": [
        "# Deep learning"
      ]
    },
    {
      "cell_type": "code",
      "metadata": {
        "id": "eSLO2w42nyv8"
      },
      "source": [
        "from keras.models import Sequential\n",
        "from keras.layers import Dense\n",
        "from keras.wrappers.scikit_learn import KerasRegressor\n",
        "from sklearn.model_selection import cross_val_score\n",
        "from sklearn.model_selection import KFold\n",
        "from sklearn.preprocessing import StandardScaler\n",
        "from sklearn.pipeline import Pipeline\n",
        "from keras.layers import Input\n",
        "\n",
        "\n",
        "# split into input (X) and output (Y) variables\n",
        "X = X_train\n",
        "Y = y_train\n",
        "\n",
        "# define the model\n",
        "def larger_model():\n",
        "\t# create model\n",
        "\tmodel = Sequential()\n",
        "\tmodel.add(Dense(16, input_dim=16, kernel_initializer='normal', activation='relu'))\n",
        "\tmodel.add(Dense(6, kernel_initializer='normal', activation='relu'))\n",
        "\tmodel.add(Dense(1, kernel_initializer='normal'))\n",
        "\t# Compile model\n",
        "\tmodel.compile(loss='mean_squared_error', optimizer='adam')\n",
        "\treturn model"
      ],
      "execution_count": null,
      "outputs": []
    },
    {
      "cell_type": "code",
      "metadata": {
        "colab": {
          "base_uri": "https://localhost:8080/"
        },
        "id": "a9zMfuVDx27J",
        "outputId": "d9e71447-bb84-446d-f3c5-a6fde6af5a60"
      },
      "source": [
        "larger_model().summary()"
      ],
      "execution_count": null,
      "outputs": [
        {
          "output_type": "stream",
          "text": [
            "Model: \"sequential\"\n",
            "_________________________________________________________________\n",
            "Layer (type)                 Output Shape              Param #   \n",
            "=================================================================\n",
            "dense (Dense)                (None, 16)                272       \n",
            "_________________________________________________________________\n",
            "dense_1 (Dense)              (None, 6)                 102       \n",
            "_________________________________________________________________\n",
            "dense_2 (Dense)              (None, 1)                 7         \n",
            "=================================================================\n",
            "Total params: 381\n",
            "Trainable params: 381\n",
            "Non-trainable params: 0\n",
            "_________________________________________________________________\n"
          ],
          "name": "stdout"
        }
      ]
    },
    {
      "cell_type": "code",
      "metadata": {
        "colab": {
          "base_uri": "https://localhost:8080/",
          "height": 422
        },
        "id": "x9ICuPoUyQOJ",
        "outputId": "28b54c0e-5284-4bff-a7c8-5aed17892bb0"
      },
      "source": [
        "from keras.utils.vis_utils import plot_model\n",
        "\n",
        "plot_model(larger_model(), to_file='model_plot.png', show_shapes=True, show_layer_names=True)"
      ],
      "execution_count": null,
      "outputs": [
        {
          "output_type": "execute_result",
          "data": {
            "image/png": "[encoded data removed]",
            "text/plain": [
              "<IPython.core.display.Image object>"
            ]
          },
          "metadata": {
            "tags": []
          },
          "execution_count": 42
        }
      ]
    },
    {
      "cell_type": "code",
      "metadata": {
        "id": "C2HUeoKYnz7X"
      },
      "source": [
        "from keras.wrappers.scikit_learn import KerasRegressor\n",
        "regressor = KerasRegressor(build_fn=larger_model, batch_size=32,epochs=200)"
      ],
      "execution_count": null,
      "outputs": []
    },
    {
      "cell_type": "code",
      "metadata": {
        "colab": {
          "base_uri": "https://localhost:8080/"
        },
        "id": "pPk4uRR2n4iH",
        "outputId": "3a698597-874e-431a-a8b3-e7a9afdb0248"
      },
      "source": [
        "results=regressor.fit(X_train,y_train)\n"
      ],
      "execution_count": null,
      "outputs": [
        {
          "output_type": "stream",
          "text": [
            "Epoch 1/200\n",
            "582/582 [==============================] - 1s 1ms/step - loss: 1.1459e-04\n",
            "Epoch 2/200\n",
            "582/582 [==============================] - 1s 1ms/step - loss: 5.0156e-05\n",
            "Epoch 3/200\n",
            "582/582 [==============================] - 1s 991us/step - loss: 4.7236e-05\n",
            "Epoch 4/200\n",
            "582/582 [==============================] - 1s 1ms/step - loss: 4.5793e-05\n",
            "Epoch 5/200\n",
            "582/582 [==============================] - 1s 1ms/step - loss: 4.3828e-05\n",
            "Epoch 6/200\n",
            "582/582 [==============================] - 1s 1ms/step - loss: 4.4119e-05\n",
            "Epoch 7/200\n",
            "582/582 [==============================] - 1s 1ms/step - loss: 4.0924e-05\n",
            "Epoch 8/200\n",
            "582/582 [==============================] - 1s 999us/step - loss: 3.8998e-05\n",
            "Epoch 9/200\n",
            "582/582 [==============================] - 1s 1ms/step - loss: 3.6356e-05\n",
            "Epoch 10/200\n",
            "582/582 [==============================] - 1s 1ms/step - loss: 3.8899e-05\n",
            "Epoch 11/200\n",
            "582/582 [==============================] - 1s 1ms/step - loss: 3.6761e-05\n",
            "Epoch 12/200\n",
            "582/582 [==============================] - 1s 1ms/step - loss: 3.6858e-05\n",
            "Epoch 13/200\n",
            "582/582 [==============================] - 1s 986us/step - loss: 3.5843e-05\n",
            "Epoch 14/200\n",
            "582/582 [==============================] - 1s 1ms/step - loss: 3.7476e-05\n",
            "Epoch 15/200\n",
            "582/582 [==============================] - 1s 1ms/step - loss: 3.4960e-05\n",
            "Epoch 16/200\n",
            "582/582 [==============================] - 1s 1ms/step - loss: 3.7518e-05\n",
            "Epoch 17/200\n",
            "582/582 [==============================] - 1s 1ms/step - loss: 3.6623e-05\n",
            "Epoch 18/200\n",
            "582/582 [==============================] - 1s 1ms/step - loss: 3.5534e-05\n",
            "Epoch 19/200\n",
            "582/582 [==============================] - 1s 1ms/step - loss: 3.5285e-05\n",
            "Epoch 20/200\n",
            "582/582 [==============================] - 1s 1ms/step - loss: 3.4656e-05\n",
            "Epoch 21/200\n",
            "582/582 [==============================] - 1s 1ms/step - loss: 3.3764e-05\n",
            "Epoch 22/200\n",
            "582/582 [==============================] - 1s 1ms/step - loss: 3.4073e-05\n",
            "Epoch 23/200\n",
            "582/582 [==============================] - 1s 988us/step - loss: 3.3976e-05\n",
            "Epoch 24/200\n",
            "582/582 [==============================] - 1s 1ms/step - loss: 3.3598e-05\n",
            "Epoch 25/200\n",
            "582/582 [==============================] - 1s 1ms/step - loss: 3.4213e-05\n",
            "Epoch 26/200\n",
            "582/582 [==============================] - 1s 1ms/step - loss: 3.5261e-05\n",
            "Epoch 27/200\n",
            "582/582 [==============================] - 1s 1ms/step - loss: 3.4729e-05\n",
            "Epoch 28/200\n",
            "582/582 [==============================] - 1s 1ms/step - loss: 3.2924e-05\n",
            "Epoch 29/200\n",
            "582/582 [==============================] - 1s 1ms/step - loss: 3.4305e-05\n",
            "Epoch 30/200\n",
            "582/582 [==============================] - 1s 989us/step - loss: 3.5544e-05\n",
            "Epoch 31/200\n",
            "582/582 [==============================] - 1s 1ms/step - loss: 3.4998e-05\n",
            "Epoch 32/200\n",
            "582/582 [==============================] - 1s 1ms/step - loss: 3.3035e-05\n",
            "Epoch 33/200\n",
            "582/582 [==============================] - 1s 1ms/step - loss: 3.3760e-05\n",
            "Epoch 34/200\n",
            "582/582 [==============================] - 1s 1ms/step - loss: 3.3748e-05\n",
            "Epoch 35/200\n",
            "582/582 [==============================] - 1s 1ms/step - loss: 3.2688e-05\n",
            "Epoch 36/200\n",
            "582/582 [==============================] - 1s 1ms/step - loss: 3.2390e-05\n",
            "Epoch 37/200\n",
            "582/582 [==============================] - 1s 1ms/step - loss: 3.1281e-05\n",
            "Epoch 38/200\n",
            "582/582 [==============================] - 1s 967us/step - loss: 3.2003e-05\n",
            "Epoch 39/200\n",
            "582/582 [==============================] - 1s 1ms/step - loss: 3.3137e-05\n",
            "Epoch 40/200\n",
            "582/582 [==============================] - 1s 1ms/step - loss: 3.2653e-05\n",
            "Epoch 41/200\n",
            "582/582 [==============================] - 1s 1ms/step - loss: 3.1033e-05\n",
            "Epoch 42/200\n",
            "582/582 [==============================] - 1s 1ms/step - loss: 3.2019e-05\n",
            "Epoch 43/200\n",
            "582/582 [==============================] - 1s 1ms/step - loss: 3.3779e-05\n",
            "Epoch 44/200\n",
            "582/582 [==============================] - 1s 1ms/step - loss: 3.1828e-05\n",
            "Epoch 45/200\n",
            "582/582 [==============================] - 1s 1ms/step - loss: 3.1898e-05\n",
            "Epoch 46/200\n",
            "582/582 [==============================] - 1s 1ms/step - loss: 3.1477e-05\n",
            "Epoch 47/200\n",
            "582/582 [==============================] - 1s 1ms/step - loss: 3.3215e-05\n",
            "Epoch 48/200\n",
            "582/582 [==============================] - 1s 1ms/step - loss: 3.0809e-05\n",
            "Epoch 49/200\n",
            "582/582 [==============================] - 1s 1ms/step - loss: 3.3320e-05\n",
            "Epoch 50/200\n",
            "582/582 [==============================] - 1s 1ms/step - loss: 3.0856e-05\n",
            "Epoch 51/200\n",
            "582/582 [==============================] - 1s 1ms/step - loss: 3.2884e-05\n",
            "Epoch 52/200\n",
            "582/582 [==============================] - 1s 1ms/step - loss: 3.0491e-05\n",
            "Epoch 53/200\n",
            "582/582 [==============================] - 1s 1ms/step - loss: 3.1937e-05\n",
            "Epoch 54/200\n",
            "582/582 [==============================] - 1s 1ms/step - loss: 3.1034e-05\n",
            "Epoch 55/200\n",
            "582/582 [==============================] - 1s 1ms/step - loss: 3.0896e-05\n",
            "Epoch 56/200\n",
            "582/582 [==============================] - 1s 1ms/step - loss: 3.1322e-05\n",
            "Epoch 57/200\n",
            "582/582 [==============================] - 1s 1ms/step - loss: 3.1465e-05\n",
            "Epoch 58/200\n",
            "582/582 [==============================] - 1s 1ms/step - loss: 3.0973e-05\n",
            "Epoch 59/200\n",
            "582/582 [==============================] - 1s 1ms/step - loss: 3.0344e-05\n",
            "Epoch 60/200\n",
            "582/582 [==============================] - 1s 1ms/step - loss: 3.2163e-05\n",
            "Epoch 61/200\n",
            "582/582 [==============================] - 1s 1ms/step - loss: 3.1496e-05\n",
            "Epoch 62/200\n",
            "582/582 [==============================] - 1s 1ms/step - loss: 3.3236e-05\n",
            "Epoch 63/200\n",
            "582/582 [==============================] - 1s 1ms/step - loss: 3.2120e-05\n",
            "Epoch 64/200\n",
            "582/582 [==============================] - 1s 1ms/step - loss: 3.0952e-05\n",
            "Epoch 65/200\n",
            "582/582 [==============================] - 1s 1ms/step - loss: 3.0724e-05\n",
            "Epoch 66/200\n",
            "582/582 [==============================] - 1s 1ms/step - loss: 3.1927e-05\n",
            "Epoch 67/200\n",
            "582/582 [==============================] - 1s 1ms/step - loss: 3.0792e-05\n",
            "Epoch 68/200\n",
            "582/582 [==============================] - 1s 1ms/step - loss: 3.0297e-05\n",
            "Epoch 69/200\n",
            "582/582 [==============================] - 1s 1ms/step - loss: 3.1575e-05\n",
            "Epoch 70/200\n",
            "582/582 [==============================] - 1s 1ms/step - loss: 3.0673e-05\n",
            "Epoch 71/200\n",
            "582/582 [==============================] - 1s 1ms/step - loss: 3.1614e-05\n",
            "Epoch 72/200\n",
            "582/582 [==============================] - 1s 1ms/step - loss: 3.0053e-05\n",
            "Epoch 73/200\n",
            "582/582 [==============================] - 1s 1ms/step - loss: 2.9713e-05\n",
            "Epoch 74/200\n",
            "582/582 [==============================] - 1s 1ms/step - loss: 2.9801e-05\n",
            "Epoch 75/200\n",
            "582/582 [==============================] - 1s 1ms/step - loss: 3.1168e-05\n",
            "Epoch 76/200\n",
            "582/582 [==============================] - 1s 1ms/step - loss: 3.1142e-05\n",
            "Epoch 77/200\n",
            "582/582 [==============================] - 1s 1ms/step - loss: 2.9051e-05\n",
            "Epoch 78/200\n",
            "582/582 [==============================] - 1s 1ms/step - loss: 3.0571e-05\n",
            "Epoch 79/200\n",
            "582/582 [==============================] - 1s 2ms/step - loss: 3.0411e-05\n",
            "Epoch 80/200\n",
            "582/582 [==============================] - 1s 2ms/step - loss: 3.0756e-05\n",
            "Epoch 81/200\n",
            "582/582 [==============================] - 1s 1ms/step - loss: 3.1775e-05\n",
            "Epoch 82/200\n",
            "582/582 [==============================] - 1s 1ms/step - loss: 2.9927e-05\n",
            "Epoch 83/200\n",
            "582/582 [==============================] - 1s 1ms/step - loss: 3.2398e-05\n",
            "Epoch 84/200\n",
            "582/582 [==============================] - 1s 1ms/step - loss: 3.1465e-05\n",
            "Epoch 85/200\n",
            "582/582 [==============================] - 1s 1ms/step - loss: 3.1381e-05\n",
            "Epoch 86/200\n",
            "582/582 [==============================] - 1s 1ms/step - loss: 3.0327e-05\n",
            "Epoch 87/200\n",
            "582/582 [==============================] - 1s 1ms/step - loss: 2.9774e-05\n",
            "Epoch 88/200\n",
            "582/582 [==============================] - 1s 1ms/step - loss: 3.1011e-05\n",
            "Epoch 89/200\n",
            "582/582 [==============================] - 1s 1ms/step - loss: 3.1038e-05\n",
            "Epoch 90/200\n",
            "582/582 [==============================] - 1s 1ms/step - loss: 3.0574e-05\n",
            "Epoch 91/200\n",
            "582/582 [==============================] - 1s 1ms/step - loss: 2.9860e-05\n",
            "Epoch 92/200\n",
            "582/582 [==============================] - 1s 1ms/step - loss: 3.0862e-05\n",
            "Epoch 93/200\n",
            "582/582 [==============================] - 1s 1ms/step - loss: 3.0043e-05\n",
            "Epoch 94/200\n",
            "582/582 [==============================] - 1s 1ms/step - loss: 3.0550e-05\n",
            "Epoch 95/200\n",
            "582/582 [==============================] - 1s 1ms/step - loss: 3.0973e-05\n",
            "Epoch 96/200\n",
            "582/582 [==============================] - 1s 1ms/step - loss: 3.1224e-05\n",
            "Epoch 97/200\n",
            "582/582 [==============================] - 1s 1ms/step - loss: 3.0552e-05\n",
            "Epoch 98/200\n",
            "582/582 [==============================] - 1s 1ms/step - loss: 2.9334e-05\n",
            "Epoch 99/200\n",
            "582/582 [==============================] - 1s 1ms/step - loss: 3.0283e-05\n",
            "Epoch 100/200\n",
            "582/582 [==============================] - 1s 1ms/step - loss: 2.9980e-05\n",
            "Epoch 101/200\n",
            "582/582 [==============================] - 1s 1ms/step - loss: 2.9654e-05\n",
            "Epoch 102/200\n",
            "582/582 [==============================] - 1s 1ms/step - loss: 3.0693e-05\n",
            "Epoch 103/200\n",
            "582/582 [==============================] - 1s 1ms/step - loss: 2.9968e-05\n",
            "Epoch 104/200\n",
            "582/582 [==============================] - 1s 1ms/step - loss: 2.9586e-05\n",
            "Epoch 105/200\n",
            "582/582 [==============================] - 1s 1ms/step - loss: 2.9613e-05\n",
            "Epoch 106/200\n",
            "582/582 [==============================] - 1s 1ms/step - loss: 2.9900e-05\n",
            "Epoch 107/200\n",
            "582/582 [==============================] - 1s 1ms/step - loss: 3.0463e-05\n",
            "Epoch 108/200\n",
            "582/582 [==============================] - 1s 1ms/step - loss: 3.0299e-05\n",
            "Epoch 109/200\n",
            "582/582 [==============================] - 1s 1ms/step - loss: 3.1182e-05\n",
            "Epoch 110/200\n",
            "582/582 [==============================] - 1s 996us/step - loss: 2.9686e-05\n",
            "Epoch 111/200\n",
            "582/582 [==============================] - 1s 1ms/step - loss: 2.9723e-05\n",
            "Epoch 112/200\n",
            "582/582 [==============================] - 1s 1ms/step - loss: 2.9891e-05\n",
            "Epoch 113/200\n",
            "582/582 [==============================] - 1s 1ms/step - loss: 3.0948e-05\n",
            "Epoch 114/200\n",
            "582/582 [==============================] - 1s 1ms/step - loss: 2.9297e-05\n",
            "Epoch 115/200\n",
            "582/582 [==============================] - 1s 1ms/step - loss: 3.0416e-05\n",
            "Epoch 116/200\n",
            "582/582 [==============================] - 1s 1ms/step - loss: 3.1149e-05\n",
            "Epoch 117/200\n",
            "582/582 [==============================] - 1s 1ms/step - loss: 3.0280e-05\n",
            "Epoch 118/200\n",
            "582/582 [==============================] - 1s 1ms/step - loss: 3.0832e-05\n",
            "Epoch 119/200\n",
            "582/582 [==============================] - 1s 1ms/step - loss: 2.9030e-05\n",
            "Epoch 120/200\n",
            "582/582 [==============================] - 1s 1ms/step - loss: 3.0420e-05\n",
            "Epoch 121/200\n",
            "582/582 [==============================] - 1s 1ms/step - loss: 3.1126e-05\n",
            "Epoch 122/200\n",
            "582/582 [==============================] - 1s 1ms/step - loss: 2.9228e-05\n",
            "Epoch 123/200\n",
            "582/582 [==============================] - 1s 1ms/step - loss: 2.8427e-05\n",
            "Epoch 124/200\n",
            "582/582 [==============================] - 1s 1ms/step - loss: 2.9826e-05\n",
            "Epoch 125/200\n",
            "582/582 [==============================] - 1s 1ms/step - loss: 2.9015e-05\n",
            "Epoch 126/200\n",
            "582/582 [==============================] - 1s 1ms/step - loss: 2.8767e-05\n",
            "Epoch 127/200\n",
            "582/582 [==============================] - 1s 1ms/step - loss: 3.0495e-05\n",
            "Epoch 128/200\n",
            "582/582 [==============================] - 1s 1ms/step - loss: 2.9553e-05\n",
            "Epoch 129/200\n",
            "582/582 [==============================] - 1s 1ms/step - loss: 3.0540e-05\n",
            "Epoch 130/200\n",
            "582/582 [==============================] - 1s 1ms/step - loss: 2.9466e-05\n",
            "Epoch 131/200\n",
            "582/582 [==============================] - 1s 1ms/step - loss: 3.0260e-05\n",
            "Epoch 132/200\n",
            "582/582 [==============================] - 1s 1ms/step - loss: 3.0292e-05\n",
            "Epoch 133/200\n",
            "582/582 [==============================] - 1s 1ms/step - loss: 2.9714e-05\n",
            "Epoch 134/200\n",
            "582/582 [==============================] - 1s 1ms/step - loss: 2.8773e-05\n",
            "Epoch 135/200\n",
            "582/582 [==============================] - 1s 1ms/step - loss: 2.9338e-05\n",
            "Epoch 136/200\n",
            "582/582 [==============================] - 1s 1ms/step - loss: 2.9792e-05\n",
            "Epoch 137/200\n",
            "582/582 [==============================] - 1s 1ms/step - loss: 2.9151e-05\n",
            "Epoch 138/200\n",
            "582/582 [==============================] - 1s 1ms/step - loss: 3.0210e-05\n",
            "Epoch 139/200\n",
            "582/582 [==============================] - 1s 1ms/step - loss: 2.9980e-05\n",
            "Epoch 140/200\n",
            "582/582 [==============================] - 1s 1ms/step - loss: 2.9682e-05\n",
            "Epoch 141/200\n",
            "582/582 [==============================] - 1s 1ms/step - loss: 2.8699e-05\n",
            "Epoch 142/200\n",
            "582/582 [==============================] - 1s 1ms/step - loss: 2.8304e-05\n",
            "Epoch 143/200\n",
            "582/582 [==============================] - 1s 1ms/step - loss: 3.0574e-05\n",
            "Epoch 144/200\n",
            "582/582 [==============================] - 1s 1ms/step - loss: 2.8754e-05\n",
            "Epoch 145/200\n",
            "582/582 [==============================] - 1s 1ms/step - loss: 2.9755e-05\n",
            "Epoch 146/200\n",
            "582/582 [==============================] - 1s 1ms/step - loss: 3.0659e-05\n",
            "Epoch 147/200\n",
            "582/582 [==============================] - 1s 1ms/step - loss: 3.0593e-05\n",
            "Epoch 148/200\n",
            "582/582 [==============================] - 1s 1ms/step - loss: 3.0116e-05\n",
            "Epoch 149/200\n",
            "582/582 [==============================] - 1s 1ms/step - loss: 2.9828e-05\n",
            "Epoch 150/200\n",
            "582/582 [==============================] - 1s 1ms/step - loss: 2.9619e-05\n",
            "Epoch 151/200\n",
            "582/582 [==============================] - 1s 1ms/step - loss: 2.9360e-05\n",
            "Epoch 152/200\n",
            "582/582 [==============================] - 1s 1ms/step - loss: 3.0190e-05\n",
            "Epoch 153/200\n",
            "582/582 [==============================] - 1s 1ms/step - loss: 2.9521e-05\n",
            "Epoch 154/200\n",
            "582/582 [==============================] - 1s 1ms/step - loss: 2.8670e-05\n",
            "Epoch 155/200\n",
            "582/582 [==============================] - 1s 1ms/step - loss: 3.0583e-05\n",
            "Epoch 156/200\n",
            "582/582 [==============================] - 1s 1ms/step - loss: 2.9907e-05\n",
            "Epoch 157/200\n",
            "582/582 [==============================] - 1s 1ms/step - loss: 2.9405e-05\n",
            "Epoch 158/200\n",
            "582/582 [==============================] - 1s 1ms/step - loss: 2.9111e-05\n",
            "Epoch 159/200\n",
            "582/582 [==============================] - 1s 1ms/step - loss: 2.9492e-05\n",
            "Epoch 160/200\n",
            "582/582 [==============================] - 1s 1ms/step - loss: 2.9063e-05\n",
            "Epoch 161/200\n",
            "582/582 [==============================] - 1s 1ms/step - loss: 3.1339e-05\n",
            "Epoch 162/200\n",
            "582/582 [==============================] - 1s 1ms/step - loss: 3.0024e-05\n",
            "Epoch 163/200\n",
            "582/582 [==============================] - 1s 1ms/step - loss: 3.0050e-05\n",
            "Epoch 164/200\n",
            "582/582 [==============================] - 1s 1ms/step - loss: 2.8879e-05\n",
            "Epoch 165/200\n",
            "582/582 [==============================] - 1s 1ms/step - loss: 2.9490e-05\n",
            "Epoch 166/200\n",
            "582/582 [==============================] - 1s 1ms/step - loss: 2.8969e-05\n",
            "Epoch 167/200\n",
            "582/582 [==============================] - 1s 1ms/step - loss: 3.0455e-05\n",
            "Epoch 168/200\n",
            "582/582 [==============================] - 1s 1ms/step - loss: 3.0175e-05\n",
            "Epoch 169/200\n",
            "582/582 [==============================] - 1s 1ms/step - loss: 2.8735e-05\n",
            "Epoch 170/200\n",
            "582/582 [==============================] - 1s 1ms/step - loss: 2.9038e-05\n",
            "Epoch 171/200\n",
            "582/582 [==============================] - 1s 1ms/step - loss: 2.7945e-05\n",
            "Epoch 172/200\n",
            "582/582 [==============================] - 1s 1ms/step - loss: 2.8914e-05\n",
            "Epoch 173/200\n",
            "582/582 [==============================] - 1s 1ms/step - loss: 3.0005e-05\n",
            "Epoch 174/200\n",
            "582/582 [==============================] - 1s 1ms/step - loss: 2.9420e-05\n",
            "Epoch 175/200\n",
            "582/582 [==============================] - 1s 1ms/step - loss: 2.8426e-05\n",
            "Epoch 176/200\n",
            "582/582 [==============================] - 1s 1ms/step - loss: 2.8817e-05\n",
            "Epoch 177/200\n",
            "582/582 [==============================] - 1s 1ms/step - loss: 2.9269e-05\n",
            "Epoch 178/200\n",
            "582/582 [==============================] - 1s 1ms/step - loss: 2.9503e-05\n",
            "Epoch 179/200\n",
            "582/582 [==============================] - 1s 1ms/step - loss: 2.8152e-05\n",
            "Epoch 180/200\n",
            "582/582 [==============================] - 1s 1ms/step - loss: 2.8983e-05\n",
            "Epoch 181/200\n",
            "582/582 [==============================] - 1s 1ms/step - loss: 2.8711e-05\n",
            "Epoch 182/200\n",
            "582/582 [==============================] - 1s 1ms/step - loss: 2.8003e-05\n",
            "Epoch 183/200\n",
            "582/582 [==============================] - 1s 1ms/step - loss: 2.9567e-05\n",
            "Epoch 184/200\n",
            "582/582 [==============================] - 1s 1ms/step - loss: 3.0145e-05\n",
            "Epoch 185/200\n",
            "582/582 [==============================] - 1s 1ms/step - loss: 3.0163e-05\n",
            "Epoch 186/200\n",
            "582/582 [==============================] - 1s 1ms/step - loss: 2.9982e-05\n",
            "Epoch 187/200\n",
            "582/582 [==============================] - 1s 1ms/step - loss: 2.9049e-05\n",
            "Epoch 188/200\n",
            "582/582 [==============================] - 1s 1ms/step - loss: 2.9064e-05\n",
            "Epoch 189/200\n",
            "582/582 [==============================] - 1s 1ms/step - loss: 2.6901e-05\n",
            "Epoch 190/200\n",
            "582/582 [==============================] - 1s 1ms/step - loss: 2.9210e-05\n",
            "Epoch 191/200\n",
            "582/582 [==============================] - 1s 1ms/step - loss: 2.8386e-05\n",
            "Epoch 192/200\n",
            "582/582 [==============================] - 1s 1ms/step - loss: 2.9307e-05\n",
            "Epoch 193/200\n",
            "582/582 [==============================] - 1s 1ms/step - loss: 2.9287e-05\n",
            "Epoch 194/200\n",
            "582/582 [==============================] - 1s 1ms/step - loss: 2.9068e-05\n",
            "Epoch 195/200\n",
            "582/582 [==============================] - 1s 1ms/step - loss: 2.9547e-05\n",
            "Epoch 196/200\n",
            "582/582 [==============================] - 1s 1ms/step - loss: 2.8737e-05\n",
            "Epoch 197/200\n",
            "582/582 [==============================] - 1s 1ms/step - loss: 2.8587e-05\n",
            "Epoch 198/200\n",
            "582/582 [==============================] - 1s 1ms/step - loss: 2.8102e-05\n",
            "Epoch 199/200\n",
            "582/582 [==============================] - 1s 1ms/step - loss: 2.9797e-05\n",
            "Epoch 200/200\n",
            "582/582 [==============================] - 1s 1ms/step - loss: 2.8349e-05\n"
          ],
          "name": "stdout"
        }
      ]
    },
    {
      "cell_type": "code",
      "metadata": {
        "colab": {
          "base_uri": "https://localhost:8080/"
        },
        "id": "SQtN_2C_plSg",
        "outputId": "c7afb098-85fc-4527-cbe4-f080a2cdac2b"
      },
      "source": [
        "deep_pred= regressor.predict(X_test)\n",
        "deep_pred.shape"
      ],
      "execution_count": null,
      "outputs": [
        {
          "output_type": "execute_result",
          "data": {
            "text/plain": [
              "(6556,)"
            ]
          },
          "metadata": {
            "tags": []
          },
          "execution_count": 58
        }
      ]
    },
    {
      "cell_type": "code",
      "metadata": {
        "colab": {
          "base_uri": "https://localhost:8080/"
        },
        "id": "StXwJDIhnnSO",
        "outputId": "6de8ed3c-15ad-4493-8b86-6be473763c43"
      },
      "source": [
        "MONTH[4:6560].shape"
      ],
      "execution_count": null,
      "outputs": [
        {
          "output_type": "execute_result",
          "data": {
            "text/plain": [
              "(6556,)"
            ]
          },
          "metadata": {
            "tags": []
          },
          "execution_count": 70
        }
      ]
    },
    {
      "cell_type": "code",
      "metadata": {
        "id": "873ZLXiUWIxq",
        "colab": {
          "base_uri": "https://localhost:8080/"
        },
        "outputId": "68a1c7fc-52e8-4fd3-d3cc-e870e0713cee"
      },
      "source": [
        "mse5=mean_absolute_error(Y_test,deep_pred)\n",
        "mse5"
      ],
      "execution_count": null,
      "outputs": [
        {
          "output_type": "execute_result",
          "data": {
            "text/plain": [
              "0.009124294378047423"
            ]
          },
          "metadata": {
            "tags": []
          },
          "execution_count": 57
        }
      ]
    },
    {
      "cell_type": "markdown",
      "metadata": {
        "id": "p7zGtZYhKRMF"
      },
      "source": [
        "# Results"
      ]
    },
    {
      "cell_type": "code",
      "metadata": {
        "colab": {
          "base_uri": "https://localhost:8080/",
          "height": 235
        },
        "id": "Ui_lU1sYKTlh",
        "outputId": "5c0d0c52-7898-42f3-b068-9eaaa19e8dd9"
      },
      "source": [
        "results = pd.DataFrame({'Model': ['SVM', 'PLS','MLR','GBR','Deep learning'],\n",
        "                        'Mean Absolute Error': [ mse1,mse2,mse3,mse4,mse5]})\n",
        "result_df = results.sort_values(by='Mean Absolute Error', ascending=False)\n",
        "result_df = result_df.set_index('Model')\n",
        "result_df"
      ],
      "execution_count": null,
      "outputs": [
        {
          "output_type": "execute_result",
          "data": {
            "text/html": [
              "<div>\n",
              "<style scoped>\n",
              "    .dataframe tbody tr th:only-of-type {\n",
              "        vertical-align: middle;\n",
              "    }\n",
              "\n",
              "    .dataframe tbody tr th {\n",
              "        vertical-align: top;\n",
              "    }\n",
              "\n",
              "    .dataframe thead th {\n",
              "        text-align: right;\n",
              "    }\n",
              "</style>\n",
              "<table border=\"1\" class=\"dataframe\">\n",
              "  <thead>\n",
              "    <tr style=\"text-align: right;\">\n",
              "      <th></th>\n",
              "      <th>Mean Absolute Error</th>\n",
              "    </tr>\n",
              "    <tr>\n",
              "      <th>Model</th>\n",
              "      <th></th>\n",
              "    </tr>\n",
              "  </thead>\n",
              "  <tbody>\n",
              "    <tr>\n",
              "      <th>MLR</th>\n",
              "      <td>0.010866</td>\n",
              "    </tr>\n",
              "    <tr>\n",
              "      <th>PLS</th>\n",
              "      <td>0.010800</td>\n",
              "    </tr>\n",
              "    <tr>\n",
              "      <th>SVM</th>\n",
              "      <td>0.009447</td>\n",
              "    </tr>\n",
              "    <tr>\n",
              "      <th>Deep learning</th>\n",
              "      <td>0.009124</td>\n",
              "    </tr>\n",
              "    <tr>\n",
              "      <th>GBR</th>\n",
              "      <td>0.000128</td>\n",
              "    </tr>\n",
              "  </tbody>\n",
              "</table>\n",
              "</div>"
            ],
            "text/plain": [
              "               Mean Absolute Error\n",
              "Model                             \n",
              "MLR                       0.010866\n",
              "PLS                       0.010800\n",
              "SVM                       0.009447\n",
              "Deep learning             0.009124\n",
              "GBR                       0.000128"
            ]
          },
          "metadata": {
            "tags": []
          },
          "execution_count": 60
        }
      ]
    },
    {
      "cell_type": "code",
      "metadata": {
        "colab": {
          "base_uri": "https://localhost:8080/",
          "height": 357
        },
        "id": "jeqTzTjJ3HJp",
        "outputId": "8e6286e7-ef8b-489b-99a1-d308279e75aa"
      },
      "source": [
        "result_df.plot(kind='bar')\n"
      ],
      "execution_count": null,
      "outputs": [
        {
          "output_type": "execute_result",
          "data": {
            "text/plain": [
              "<matplotlib.axes._subplots.AxesSubplot at 0x7f0e0f584790>"
            ]
          },
          "metadata": {
            "tags": []
          },
          "execution_count": 61
        },
        {
          "output_type": "display_data",
          "data": {
            "image/png": "[encoded data removed]",
            "text/plain": [
              "<Figure size 432x288 with 1 Axes>"
            ]
          },
          "metadata": {
            "tags": [],
            "needs_background": "light"
          }
        }
      ]
    },
    {
      "cell_type": "code",
      "metadata": {
        "colab": {
          "base_uri": "https://localhost:8080/"
        },
        "id": "CkQkS-llqr1q",
        "outputId": "167223a6-cc22-4981-95f2-e9a564944891"
      },
      "source": [
        "Y_test.shape"
      ],
      "execution_count": null,
      "outputs": [
        {
          "output_type": "execute_result",
          "data": {
            "text/plain": [
              "(6556,)"
            ]
          },
          "metadata": {
            "tags": []
          },
          "execution_count": 76
        }
      ]
    },
    {
      "cell_type": "code",
      "metadata": {
        "id": "pHisCuqeGjEy",
        "colab": {
          "base_uri": "https://localhost:8080/",
          "height": 374
        },
        "outputId": "9d70ef1c-c12a-46fb-c40a-ef4f48697d8f"
      },
      "source": [
        "results = pd.DataFrame({'MONTH':MONTH[4:6560],\n",
        "                        'Actual':Y_test ,\n",
        "                        'SVM_Predicted':list(svm_pred.flatten()),\n",
        "                        'PLS_Predicted':list(pls_pred.flatten()),\n",
        "                        'RG_Predicted':list(rg_pred.flatten()),\n",
        "                        'GBR_Predicted':list(gbr_pred_R.flatten()),\n",
        "                        'Deep_Predicted':list(deep_pred.flatten())\n",
        "\n",
        "                        })\n",
        "result_df = results.sort_values(by='MONTH', ascending=False)\n",
        "result_df = result_df.set_index('MONTH')\n",
        "result_df.head()\n",
        "result_df.to_csv(r'results.csv')"
      ],
      "execution_count": null,
      "outputs": [
        {
          "output_type": "error",
          "ename": "ValueError",
          "evalue": "ignored",
          "traceback": [
            "\u001b[0;31m---------------------------------------------------------------------------\u001b[0m",
            "\u001b[0;31mValueError\u001b[0m                                Traceback (most recent call last)",
            "\u001b[0;32m<ipython-input-77-11cb941c9b5c>\u001b[0m in \u001b[0;36m<module>\u001b[0;34m()\u001b[0m\n\u001b[1;32m      5\u001b[0m                         \u001b[0;34m'RG_Predicted'\u001b[0m\u001b[0;34m:\u001b[0m\u001b[0mlist\u001b[0m\u001b[0;34m(\u001b[0m\u001b[0mrg_pred\u001b[0m\u001b[0;34m.\u001b[0m\u001b[0mflatten\u001b[0m\u001b[0;34m(\u001b[0m\u001b[0;34m)\u001b[0m\u001b[0;34m)\u001b[0m\u001b[0;34m,\u001b[0m\u001b[0;34m\u001b[0m\u001b[0;34m\u001b[0m\u001b[0m\n\u001b[1;32m      6\u001b[0m                         \u001b[0;34m'GBR_Predicted'\u001b[0m\u001b[0;34m:\u001b[0m\u001b[0mlist\u001b[0m\u001b[0;34m(\u001b[0m\u001b[0mgbr_pred_R\u001b[0m\u001b[0;34m.\u001b[0m\u001b[0mflatten\u001b[0m\u001b[0;34m(\u001b[0m\u001b[0;34m)\u001b[0m\u001b[0;34m)\u001b[0m\u001b[0;34m,\u001b[0m\u001b[0;34m\u001b[0m\u001b[0;34m\u001b[0m\u001b[0m\n\u001b[0;32m----> 7\u001b[0;31m                         \u001b[0;34m'Deep_Predicted'\u001b[0m\u001b[0;34m:\u001b[0m\u001b[0mlist\u001b[0m\u001b[0;34m(\u001b[0m\u001b[0mdeep_pred\u001b[0m\u001b[0;34m.\u001b[0m\u001b[0mflatten\u001b[0m\u001b[0;34m(\u001b[0m\u001b[0;34m)\u001b[0m\u001b[0;34m)\u001b[0m\u001b[0;34m\u001b[0m\u001b[0;34m\u001b[0m\u001b[0m\n\u001b[0m\u001b[1;32m      8\u001b[0m \u001b[0;34m\u001b[0m\u001b[0m\n\u001b[1;32m      9\u001b[0m                         })\n",
            "\u001b[0;32m/usr/local/lib/python3.7/dist-packages/pandas/core/frame.py\u001b[0m in \u001b[0;36m__init__\u001b[0;34m(self, data, index, columns, dtype, copy)\u001b[0m\n\u001b[1;32m    466\u001b[0m \u001b[0;34m\u001b[0m\u001b[0m\n\u001b[1;32m    467\u001b[0m         \u001b[0;32melif\u001b[0m \u001b[0misinstance\u001b[0m\u001b[0;34m(\u001b[0m\u001b[0mdata\u001b[0m\u001b[0;34m,\u001b[0m \u001b[0mdict\u001b[0m\u001b[0;34m)\u001b[0m\u001b[0;34m:\u001b[0m\u001b[0;34m\u001b[0m\u001b[0;34m\u001b[0m\u001b[0m\n\u001b[0;32m--> 468\u001b[0;31m             \u001b[0mmgr\u001b[0m \u001b[0;34m=\u001b[0m \u001b[0minit_dict\u001b[0m\u001b[0;34m(\u001b[0m\u001b[0mdata\u001b[0m\u001b[0;34m,\u001b[0m \u001b[0mindex\u001b[0m\u001b[0;34m,\u001b[0m \u001b[0mcolumns\u001b[0m\u001b[0;34m,\u001b[0m \u001b[0mdtype\u001b[0m\u001b[0;34m=\u001b[0m\u001b[0mdtype\u001b[0m\u001b[0;34m)\u001b[0m\u001b[0;34m\u001b[0m\u001b[0;34m\u001b[0m\u001b[0m\n\u001b[0m\u001b[1;32m    469\u001b[0m         \u001b[0;32melif\u001b[0m \u001b[0misinstance\u001b[0m\u001b[0;34m(\u001b[0m\u001b[0mdata\u001b[0m\u001b[0;34m,\u001b[0m \u001b[0mma\u001b[0m\u001b[0;34m.\u001b[0m\u001b[0mMaskedArray\u001b[0m\u001b[0;34m)\u001b[0m\u001b[0;34m:\u001b[0m\u001b[0;34m\u001b[0m\u001b[0;34m\u001b[0m\u001b[0m\n\u001b[1;32m    470\u001b[0m             \u001b[0;32mimport\u001b[0m \u001b[0mnumpy\u001b[0m\u001b[0;34m.\u001b[0m\u001b[0mma\u001b[0m\u001b[0;34m.\u001b[0m\u001b[0mmrecords\u001b[0m \u001b[0;32mas\u001b[0m \u001b[0mmrecords\u001b[0m\u001b[0;34m\u001b[0m\u001b[0;34m\u001b[0m\u001b[0m\n",
            "\u001b[0;32m/usr/local/lib/python3.7/dist-packages/pandas/core/internals/construction.py\u001b[0m in \u001b[0;36minit_dict\u001b[0;34m(data, index, columns, dtype)\u001b[0m\n\u001b[1;32m    281\u001b[0m             \u001b[0marr\u001b[0m \u001b[0;32mif\u001b[0m \u001b[0;32mnot\u001b[0m \u001b[0mis_datetime64tz_dtype\u001b[0m\u001b[0;34m(\u001b[0m\u001b[0marr\u001b[0m\u001b[0;34m)\u001b[0m \u001b[0;32melse\u001b[0m \u001b[0marr\u001b[0m\u001b[0;34m.\u001b[0m\u001b[0mcopy\u001b[0m\u001b[0;34m(\u001b[0m\u001b[0;34m)\u001b[0m \u001b[0;32mfor\u001b[0m \u001b[0marr\u001b[0m \u001b[0;32min\u001b[0m \u001b[0marrays\u001b[0m\u001b[0;34m\u001b[0m\u001b[0;34m\u001b[0m\u001b[0m\n\u001b[1;32m    282\u001b[0m         ]\n\u001b[0;32m--> 283\u001b[0;31m     \u001b[0;32mreturn\u001b[0m \u001b[0marrays_to_mgr\u001b[0m\u001b[0;34m(\u001b[0m\u001b[0marrays\u001b[0m\u001b[0;34m,\u001b[0m \u001b[0mdata_names\u001b[0m\u001b[0;34m,\u001b[0m \u001b[0mindex\u001b[0m\u001b[0;34m,\u001b[0m \u001b[0mcolumns\u001b[0m\u001b[0;34m,\u001b[0m \u001b[0mdtype\u001b[0m\u001b[0;34m=\u001b[0m\u001b[0mdtype\u001b[0m\u001b[0;34m)\u001b[0m\u001b[0;34m\u001b[0m\u001b[0;34m\u001b[0m\u001b[0m\n\u001b[0m\u001b[1;32m    284\u001b[0m \u001b[0;34m\u001b[0m\u001b[0m\n\u001b[1;32m    285\u001b[0m \u001b[0;34m\u001b[0m\u001b[0m\n",
            "\u001b[0;32m/usr/local/lib/python3.7/dist-packages/pandas/core/internals/construction.py\u001b[0m in \u001b[0;36marrays_to_mgr\u001b[0;34m(arrays, arr_names, index, columns, dtype, verify_integrity)\u001b[0m\n\u001b[1;32m     76\u001b[0m         \u001b[0;31m# figure out the index, if necessary\u001b[0m\u001b[0;34m\u001b[0m\u001b[0;34m\u001b[0m\u001b[0;34m\u001b[0m\u001b[0m\n\u001b[1;32m     77\u001b[0m         \u001b[0;32mif\u001b[0m \u001b[0mindex\u001b[0m \u001b[0;32mis\u001b[0m \u001b[0;32mNone\u001b[0m\u001b[0;34m:\u001b[0m\u001b[0;34m\u001b[0m\u001b[0;34m\u001b[0m\u001b[0m\n\u001b[0;32m---> 78\u001b[0;31m             \u001b[0mindex\u001b[0m \u001b[0;34m=\u001b[0m \u001b[0mextract_index\u001b[0m\u001b[0;34m(\u001b[0m\u001b[0marrays\u001b[0m\u001b[0;34m)\u001b[0m\u001b[0;34m\u001b[0m\u001b[0;34m\u001b[0m\u001b[0m\n\u001b[0m\u001b[1;32m     79\u001b[0m         \u001b[0;32melse\u001b[0m\u001b[0;34m:\u001b[0m\u001b[0;34m\u001b[0m\u001b[0;34m\u001b[0m\u001b[0m\n\u001b[1;32m     80\u001b[0m             \u001b[0mindex\u001b[0m \u001b[0;34m=\u001b[0m \u001b[0mensure_index\u001b[0m\u001b[0;34m(\u001b[0m\u001b[0mindex\u001b[0m\u001b[0;34m)\u001b[0m\u001b[0;34m\u001b[0m\u001b[0;34m\u001b[0m\u001b[0m\n",
            "\u001b[0;32m/usr/local/lib/python3.7/dist-packages/pandas/core/internals/construction.py\u001b[0m in \u001b[0;36mextract_index\u001b[0;34m(data)\u001b[0m\n\u001b[1;32m    409\u001b[0m                         \u001b[0;34mf\"length {len(index)}\"\u001b[0m\u001b[0;34m\u001b[0m\u001b[0;34m\u001b[0m\u001b[0m\n\u001b[1;32m    410\u001b[0m                     )\n\u001b[0;32m--> 411\u001b[0;31m                     \u001b[0;32mraise\u001b[0m \u001b[0mValueError\u001b[0m\u001b[0;34m(\u001b[0m\u001b[0mmsg\u001b[0m\u001b[0;34m)\u001b[0m\u001b[0;34m\u001b[0m\u001b[0;34m\u001b[0m\u001b[0m\n\u001b[0m\u001b[1;32m    412\u001b[0m             \u001b[0;32melse\u001b[0m\u001b[0;34m:\u001b[0m\u001b[0;34m\u001b[0m\u001b[0;34m\u001b[0m\u001b[0m\n\u001b[1;32m    413\u001b[0m                 \u001b[0mindex\u001b[0m \u001b[0;34m=\u001b[0m \u001b[0mibase\u001b[0m\u001b[0;34m.\u001b[0m\u001b[0mdefault_index\u001b[0m\u001b[0;34m(\u001b[0m\u001b[0mlengths\u001b[0m\u001b[0;34m[\u001b[0m\u001b[0;36m0\u001b[0m\u001b[0;34m]\u001b[0m\u001b[0;34m)\u001b[0m\u001b[0;34m\u001b[0m\u001b[0;34m\u001b[0m\u001b[0m\n",
            "\u001b[0;31mValueError\u001b[0m: array length 6556 does not match index length 8353"
          ]
        }
      ]
    }
  ]
}